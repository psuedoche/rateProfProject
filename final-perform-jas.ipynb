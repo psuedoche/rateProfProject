{
 "cells": [
  {
   "cell_type": "markdown",
   "metadata": {},
   "source": [
    "# Final Perform\n",
    "\n",
    "This is the final perform. This notebook is serves as a template for how you should structure your final submission. There are no autograded tests for this Perform. You should also feel free to add more cells and move sections around if you believe it will improve the cohesion of the assignment.\n",
    "\n",
    "The data is in RateMyProfessorSampleData.zip. You will need to unzip the file to access the data files. The data is a [sample data dump from RateMyProfessor.com](https://data.mendeley.com/datasets/fvtfjyvw7d/2).\n",
    "\n",
    "When you finish please go to Kernel --> Restart and Run All, and then double check that your notebook looks correct before saving and submitting your .ipynb file (the notebook file) on gradescope. There is no autograder for this Perform. It is entirely manually graded."
   ]
  },
  {
   "cell_type": "code",
   "execution_count": 1,
   "metadata": {},
   "outputs": [
    {
     "name": "stdout",
     "output_type": "stream",
     "text": [
      "0.11.0\n"
     ]
    }
   ],
   "source": [
    "# Run this code cell to import relevant libraries\n",
    "# Feel free to add any other libraries here or later in your notebook\n",
    "# Please update to seaborn v0.11 for this assignment\n",
    "# check version: print(sns.__version__)\n",
    "\n",
    "import numpy as np\n",
    "import pandas as pd\n",
    "import seaborn as sns\n",
    "from scipy import stats\n",
    "import matplotlib.pyplot as plt\n",
    "sns.set_theme()\n",
    "\n",
    "print(sns.__version__)"
   ]
  },
  {
   "cell_type": "markdown",
   "metadata": {},
   "source": [
    "# Introduction\n",
    "\n",
    "*Add text here if you would like to provide an introduction to your analysis that will add to the notebook's cohesion*"
   ]
  },
  {
   "cell_type": "markdown",
   "metadata": {},
   "source": [
    "# Data Processing\n",
    "\n",
    "This section should have all of your data loading and cleaning code where you load and create your DataFrame(s). It does not need to contain all of the data processing code if creating a new column or table in a later section makes more sense for explanation and cohesion."
   ]
  },
  {
   "cell_type": "code",
   "execution_count": 2,
   "metadata": {},
   "outputs": [
    {
     "name": "stdout",
     "output_type": "stream",
     "text": [
      "  professor_name local_name state_name  avg_rating  student_star\n",
      "0    Mimi  Kline    Newtown         PA    5.000000           5.0\n",
      "1  Dennis  Jones    Turlock         CA    4.236842           4.0\n",
      "2  Dennis  Jones    Turlock         CA    4.236842           1.0\n",
      "3  Dennis  Jones    Turlock         CA    4.236842           3.5\n",
      "4  Dennis  Jones    Turlock         CA    4.236842           2.5\n"
     ]
    }
   ],
   "source": [
    "import glob\n",
    "import os\n",
    "\n",
    "# function that parses the individual csv files into the necessary format\n",
    "def parseFile(file):\n",
    "    df = pd.read_csv(file)\n",
    "    avg_rating = np.mean(df['student_star'])\n",
    "    df['avg_rating'] = avg_rating\n",
    "    #df = df.drop_duplicates(subset = ['professor_name'])\n",
    "    df = df[['professor_name', 'local_name', 'state_name', 'avg_rating', 'student_star']]\n",
    "    return df\n",
    "\n",
    "# merging the files into one dataframe\n",
    "joined_files = os.path.join(\"RateMyProfessorSampleData\", \"data*.csv\")\n",
    "#joined_files = os.path.join(\"/Users/gerbe/Downloads/RateMyProfessorSampleData\", \"data*.csv\")\n",
    "joined_list = glob.glob(joined_files)\n",
    "df = pd.concat(map(parseFile, joined_list), ignore_index=True)\n",
    "print(df.head())"
   ]
  },
  {
   "cell_type": "code",
   "execution_count": 3,
   "metadata": {},
   "outputs": [
    {
     "name": "stdout",
     "output_type": "stream",
     "text": [
      "(19685, 5)\n"
     ]
    }
   ],
   "source": [
    "print(df.shape)"
   ]
  },
  {
   "cell_type": "code",
   "execution_count": 193,
   "metadata": {},
   "outputs": [],
   "source": [
    "# We add a region label to the each row\n",
    "# N - North East W - West M - Mid West S - South O - Other\n",
    "region_map = {\n",
    "        'AK': 'O',\n",
    "        'AL': 'S',\n",
    "        'AR': 'S',\n",
    "        'AS': 'O',\n",
    "        'AZ': 'W',\n",
    "        'CA': 'W',\n",
    "        'CO': 'W',\n",
    "        'CT': 'N',\n",
    "        'DC': 'N',\n",
    "        'DE': 'N',\n",
    "        'FL': 'S',\n",
    "        'GA': 'S',\n",
    "        'GU': 'O',\n",
    "        'HI': 'O',\n",
    "        'IA': 'M',\n",
    "        'ID': 'W',\n",
    "        'IL': 'M',\n",
    "        'IN': 'M',\n",
    "        'KS': 'M',\n",
    "        'KY': 'S',\n",
    "        'LA': 'S',\n",
    "        'MA': 'N',\n",
    "        'MD': 'N',\n",
    "        'ME': 'N',\n",
    "        'MI': 'W',\n",
    "        'MN': 'M',\n",
    "        'MO': 'M',\n",
    "        'MP': 'O',\n",
    "        'MS': 'S',\n",
    "        'MT': 'W',\n",
    "        'NA': 'O',\n",
    "        'NC': 'S',\n",
    "        'ND': 'M',\n",
    "        'NE': 'W',\n",
    "        'NH': 'N',\n",
    "        'NJ': 'N',\n",
    "        'NM': 'W',\n",
    "        'NV': 'W',\n",
    "        'NY': 'N',\n",
    "        'OH': 'M',\n",
    "        'OK': 'S',\n",
    "        'OR': 'W',\n",
    "        'PA': 'N',\n",
    "        'PR': 'O',\n",
    "        'RI': 'N',\n",
    "        'SC': 'S',\n",
    "        'SD': 'M',\n",
    "        'TN': 'S',\n",
    "        'TX': 'S',\n",
    "        'UT': 'W',\n",
    "        'VA': 'S',\n",
    "        'VI': 'O',\n",
    "        'VT': 'N',\n",
    "        'WA': 'W',\n",
    "        'WI': 'M',\n",
    "        'WV': 'S',\n",
    "        'WY': 'W'\n",
    "}\n",
    "df['state_name'] = df['state_name'].str.replace(' ', '')\n",
    "df['region'] = df['state_name'].map(region_map)"
   ]
  },
  {
   "cell_type": "code",
   "execution_count": 194,
   "metadata": {},
   "outputs": [
    {
     "data": {
      "text/html": [
       "<div>\n",
       "<style scoped>\n",
       "    .dataframe tbody tr th:only-of-type {\n",
       "        vertical-align: middle;\n",
       "    }\n",
       "\n",
       "    .dataframe tbody tr th {\n",
       "        vertical-align: top;\n",
       "    }\n",
       "\n",
       "    .dataframe thead th {\n",
       "        text-align: right;\n",
       "    }\n",
       "</style>\n",
       "<table border=\"1\" class=\"dataframe\">\n",
       "  <thead>\n",
       "    <tr style=\"text-align: right;\">\n",
       "      <th></th>\n",
       "      <th>professor_name</th>\n",
       "      <th>local_name</th>\n",
       "      <th>state_name</th>\n",
       "      <th>avg_rating</th>\n",
       "      <th>student_star</th>\n",
       "      <th>region</th>\n",
       "      <th>population</th>\n",
       "    </tr>\n",
       "  </thead>\n",
       "  <tbody>\n",
       "    <tr>\n",
       "      <th>0</th>\n",
       "      <td>Mimi  Kline</td>\n",
       "      <td>Newtown</td>\n",
       "      <td>PA</td>\n",
       "      <td>5.000000</td>\n",
       "      <td>5.0</td>\n",
       "      <td>N</td>\n",
       "      <td>NaN</td>\n",
       "    </tr>\n",
       "    <tr>\n",
       "      <th>1</th>\n",
       "      <td>Dennis  Jones</td>\n",
       "      <td>Turlock</td>\n",
       "      <td>CA</td>\n",
       "      <td>4.236842</td>\n",
       "      <td>4.0</td>\n",
       "      <td>W</td>\n",
       "      <td>4300.0</td>\n",
       "    </tr>\n",
       "    <tr>\n",
       "      <th>2</th>\n",
       "      <td>Dennis  Jones</td>\n",
       "      <td>Turlock</td>\n",
       "      <td>CA</td>\n",
       "      <td>4.236842</td>\n",
       "      <td>1.0</td>\n",
       "      <td>W</td>\n",
       "      <td>4300.0</td>\n",
       "    </tr>\n",
       "    <tr>\n",
       "      <th>3</th>\n",
       "      <td>Dennis  Jones</td>\n",
       "      <td>Turlock</td>\n",
       "      <td>CA</td>\n",
       "      <td>4.236842</td>\n",
       "      <td>3.5</td>\n",
       "      <td>W</td>\n",
       "      <td>4300.0</td>\n",
       "    </tr>\n",
       "    <tr>\n",
       "      <th>4</th>\n",
       "      <td>Dennis  Jones</td>\n",
       "      <td>Turlock</td>\n",
       "      <td>CA</td>\n",
       "      <td>4.236842</td>\n",
       "      <td>2.5</td>\n",
       "      <td>W</td>\n",
       "      <td>4300.0</td>\n",
       "    </tr>\n",
       "  </tbody>\n",
       "</table>\n",
       "</div>"
      ],
      "text/plain": [
       "  professor_name local_name state_name  avg_rating  student_star region  \\\n",
       "0    Mimi  Kline    Newtown         PA    5.000000           5.0      N   \n",
       "1  Dennis  Jones    Turlock         CA    4.236842           4.0      W   \n",
       "2  Dennis  Jones    Turlock         CA    4.236842           1.0      W   \n",
       "3  Dennis  Jones    Turlock         CA    4.236842           3.5      W   \n",
       "4  Dennis  Jones    Turlock         CA    4.236842           2.5      W   \n",
       "\n",
       "   population  \n",
       "0         NaN  \n",
       "1      4300.0  \n",
       "2      4300.0  \n",
       "3      4300.0  \n",
       "4      4300.0  "
      ]
     },
     "execution_count": 194,
     "metadata": {},
     "output_type": "execute_result"
    }
   ],
   "source": [
    "df.head()"
   ]
  },
  {
   "cell_type": "markdown",
   "metadata": {},
   "source": [
    "# Visualization\n",
    "\n",
    "This section should contain at least one visualization showing something informative about the data. The skills you learned for this section primarily come from Module 5B."
   ]
  },
  {
   "cell_type": "code",
   "execution_count": 195,
   "metadata": {},
   "outputs": [
    {
     "data": {
      "text/plain": [
       "<seaborn.axisgrid.FacetGrid at 0x7ffb1c023ed0>"
      ]
     },
     "execution_count": 195,
     "metadata": {},
     "output_type": "execute_result"
    },
    {
     "data": {
      "image/png": "[encoded data removed]",
      "text/plain": [
       "<Figure size 360x360 with 1 Axes>"
      ]
     },
     "metadata": {},
     "output_type": "display_data"
    }
   ],
   "source": [
    "# average ratings for each region \n",
    "sns.catplot(data = df1, x = 'region', y = 'avg_rating', kind='box')"
   ]
  },
  {
   "cell_type": "code",
   "execution_count": 196,
   "metadata": {},
   "outputs": [
    {
     "data": {
      "text/plain": [
       "<seaborn.axisgrid.FacetGrid at 0x7ffb399d5e90>"
      ]
     },
     "execution_count": 196,
     "metadata": {},
     "output_type": "execute_result"
    },
    {
     "data": {
      "image/png": "[encoded data removed]",
      "text/plain": [
       "<Figure size 360x360 with 1 Axes>"
      ]
     },
     "metadata": {},
     "output_type": "display_data"
    }
   ],
   "source": [
    "sns.catplot(data = df1, x = 'student_star', y = 'region', kind = 'bar')"
   ]
  },
  {
   "cell_type": "code",
   "execution_count": 208,
   "metadata": {},
   "outputs": [
    {
     "name": "stdout",
     "output_type": "stream",
     "text": [
      "Summary statistics of average ratings for region N\n",
      "count    5435.000000\n",
      "mean        3.825023\n",
      "std         0.935441\n",
      "min         1.000000\n",
      "25%         3.236111\n",
      "50%         4.075000\n",
      "75%         4.600000\n",
      "max         5.000000\n",
      "Name: avg_rating, dtype: float64\n",
      "Summary statistics of average ratings for region W\n",
      "count    6285.000000\n",
      "mean        3.779962\n",
      "std         0.915007\n",
      "min         1.000000\n",
      "25%         3.125000\n",
      "50%         4.000000\n",
      "75%         4.500000\n",
      "max         5.000000\n",
      "Name: avg_rating, dtype: float64\n",
      "Summary statistics of average ratings for region S\n",
      "count    4007.000000\n",
      "mean        3.744094\n",
      "std         0.954294\n",
      "min         1.000000\n",
      "25%         3.091667\n",
      "50%         3.928571\n",
      "75%         4.500000\n",
      "max         5.000000\n",
      "Name: avg_rating, dtype: float64\n",
      "Summary statistics of average ratings for region M\n",
      "count    2397.000000\n",
      "mean        3.683790\n",
      "std         0.986001\n",
      "min         1.000000\n",
      "25%         3.000000\n",
      "50%         3.928571\n",
      "75%         4.545455\n",
      "max         5.000000\n",
      "Name: avg_rating, dtype: float64\n",
      "Summary statistics of average ratings for region O\n",
      "count    90.000000\n",
      "mean      4.050000\n",
      "std       1.119376\n",
      "min       2.025000\n",
      "25%       4.100000\n",
      "50%       4.575000\n",
      "75%       4.666667\n",
      "max       5.000000\n",
      "Name: avg_rating, dtype: float64\n"
     ]
    },
    {
     "data": {
      "image/png": "[encoded data removed]",
      "text/plain": [
       "<Figure size 360x360 with 1 Axes>"
      ]
     },
     "metadata": {},
     "output_type": "display_data"
    },
    {
     "data": {
      "image/png": "[encoded data removed]",
      "text/plain": [
       "<Figure size 360x360 with 1 Axes>"
      ]
     },
     "metadata": {},
     "output_type": "display_data"
    },
    {
     "data": {
      "image/png": "[encoded data removed]",
      "text/plain": [
       "<Figure size 360x360 with 1 Axes>"
      ]
     },
     "metadata": {},
     "output_type": "display_data"
    },
    {
     "data": {
      "image/png": "[encoded data removed]",
      "text/plain": [
       "<Figure size 360x360 with 1 Axes>"
      ]
     },
     "metadata": {},
     "output_type": "display_data"
    },
    {
     "data": {
      "image/png": "[encoded data removed]",
      "text/plain": [
       "<Figure size 360x360 with 1 Axes>"
      ]
     },
     "metadata": {},
     "output_type": "display_data"
    }
   ],
   "source": [
    "# visualization of the distribution of each regions ratings \n",
    "regions = ['N', 'W','S','M','O']\n",
    "for r in regions:\n",
    "    sns.displot(data = df1[df1['region'] == r], x = 'avg_rating')\n",
    "    plt.title('Region ' + r)\n",
    "    print('Summary statistics of average ratings for region ' + r)\n",
    "    print(df[df['region'] == r].describe()['avg_rating'])"
   ]
  },
  {
   "cell_type": "markdown",
   "metadata": {},
   "source": [
    "# Hypothesis Test\n",
    "\n",
    "This section should contain at least one hypothesis test about the data. The skills you learned for this section primarily came from Module 3B."
   ]
  },
  {
   "cell_type": "code",
   "execution_count": 28,
   "metadata": {},
   "outputs": [
    {
     "name": "stdout",
     "output_type": "stream",
     "text": [
      "the p value is 4.126449923004665e-05\n"
     ]
    }
   ],
   "source": [
    "H_df = df1 #create a df for the hypothesis test section\n",
    "MWonly = H_df[H_df['region'] == 'M']\n",
    "NEonly = H_df[H_df['region'] == 'N']\n",
    "result = stats.ttest_ind_from_stats(mean1 = np.mean(MWonly['student_star']), std1 = np.std(MWonly['student_star']), nobs1 = len(MWonly['student_star']),\n",
    "                                 mean2 = np.mean(NEonly['student_star']), std2 = np.std(NEonly['student_star']), nobs2 = len(NEonly['student_star']))\n",
    "\n",
    "print(\"the p value is {}\".format(result.pvalue))"
   ]
  },
  {
   "cell_type": "markdown",
   "metadata": {},
   "source": [
    "For a test of two means, we can use ttest_ind_from_stats.\n",
    "\n",
    "The null hypothesis is that the average star rating for a professor is not different between the Midwest region and the Northeast region. \n",
    "\n",
    "The alternative hypothesis is that the average star rating for a professor IS different between these two regions. \n",
    "\n",
    "Since the p-value is far below 0.05, we can reject the null hypothesis that the average star rating for professors is the same between the Midwest region and the Northeast region."
   ]
  },
  {
   "cell_type": "markdown",
   "metadata": {},
   "source": [
    "# Prediction\n",
    "\n",
    "This section should contain the creation and testing of at least one model. The skills you learned for this section primarily came from Module 6."
   ]
  },
  {
   "cell_type": "code",
   "execution_count": 93,
   "metadata": {},
   "outputs": [
    {
     "data": {
      "image/png": "[encoded data removed]",
      "text/plain": [
       "<Figure size 432x288 with 2 Axes>"
      ]
     },
     "metadata": {},
     "output_type": "display_data"
    },
    {
     "name": "stdout",
     "output_type": "stream",
     "text": [
      "[[ 212 1509]\n",
      " [ 198 2321]]\n",
      "There are 1509 false positives and 198 false negatives\n",
      "The accuracy score is 0.5974056603773585\n"
     ]
    }
   ],
   "source": [
    "from sklearn.linear_model import LogisticRegression\n",
    "from sklearn.metrics import accuracy_score\n",
    "from sklearn.metrics import confusion_matrix\n",
    "from sklearn.metrics import confusion_matrix, ConfusionMatrixDisplay\n",
    "import matplotlib.pyplot as plt # just to format confusion matrix\n",
    "\n",
    "# ratings that come from the NorthEast or Midwest\n",
    "both = df1[(df1['region'] == 'N') | (df1['region'] == 'M')]\n",
    "both = both.dropna()\n",
    "# making predictions based on all the \n",
    "data = both[['avg_rating']].values\n",
    "target = both['region'].values\n",
    "logistic_model = LogisticRegression()\n",
    "logistic_model.fit(X=data, y = target)\n",
    "\n",
    "both['predicted_region'] = logistic_model.predict(data)\n",
    "\n",
    "cf = confusion_matrix(both['region'],both['predicted_region'])\n",
    "disp = ConfusionMatrixDisplay(confusion_matrix=cf, display_labels=both[\"region\"].unique())\n",
    "disp.plot()\n",
    "plt.grid(False) #gets rid of white lines\n",
    "plt.show()\n",
    "print(cf) # plaintext version of confusion matrix\n",
    "\n",
    "print(\"There are {} false positives and {} false negatives\".format(cf[0][1], cf[1][0]))\n",
    "\n",
    "score = accuracy_score(both['region'], both['predicted_region']) # The accuracy score of the prediction\n",
    "print(\"The accuracy score is {}\".format(score))"
   ]
  },
  {
   "cell_type": "code",
   "execution_count": 94,
   "metadata": {},
   "outputs": [],
   "source": [
    "df2 = df1.dropna()\n",
    "data = df2[['student_star']]\n",
    "target = df2['region']\n",
    "from sklearn.model_selection import train_test_split\n",
    "# splitting the data into training and testing sets\n",
    "train_data, test_data, train_target, test_target = train_test_split(\n",
    "    data, target, test_size=0.4, random_state=1)"
   ]
  },
  {
   "cell_type": "code",
   "execution_count": 95,
   "metadata": {},
   "outputs": [
    {
     "name": "stdout",
     "output_type": "stream",
     "text": [
      "(12076, 7)\n",
      "  professor_name local_name state_name  avg_rating  student_star region  \\\n",
      "1  Dennis  Jones    Turlock         CA    4.236842           4.0      W   \n",
      "2  Dennis  Jones    Turlock         CA    4.236842           1.0      W   \n",
      "3  Dennis  Jones    Turlock         CA    4.236842           3.5      W   \n",
      "4  Dennis  Jones    Turlock         CA    4.236842           2.5      W   \n",
      "5  Dennis  Jones    Turlock         CA    4.236842           5.0      W   \n",
      "\n",
      "   population  \n",
      "1      4300.0  \n",
      "2      4300.0  \n",
      "3      4300.0  \n",
      "4      4300.0  \n",
      "5      4300.0  \n",
      "       student_star\n",
      "18934           5.0\n",
      "5715            5.0\n",
      "7786            5.0\n",
      "13906           5.0\n",
      "3708            3.0\n",
      "...             ...\n",
      "12670           2.0\n",
      "17762           4.0\n",
      "1490            5.0\n",
      "8561            5.0\n",
      "404             2.0\n",
      "\n",
      "[7245 rows x 1 columns]\n"
     ]
    }
   ],
   "source": [
    "print(df2.shape)\n",
    "\n",
    "print(df2.head())\n",
    "print(train_data)"
   ]
  },
  {
   "cell_type": "code",
   "execution_count": 96,
   "metadata": {},
   "outputs": [
    {
     "name": "stdout",
     "output_type": "stream",
     "text": [
      "Optimal n_neighors: {'n_neighbors': 27}\n",
      "Accuracy on training data: 0.4104899930986888\n",
      "Accuracy on testing data: 0.42165183191885736\n"
     ]
    }
   ],
   "source": [
    "from sklearn.model_selection import cross_validate\n",
    "from sklearn.model_selection import GridSearchCV\n",
    "from sklearn.neighbors import KNeighborsClassifier\n",
    "\n",
    "params_to_try = {'n_neighbors': range(1, 30)}\n",
    "knn_search = GridSearchCV(estimator=KNeighborsClassifier(), param_grid=params_to_try)\n",
    "knn_search.fit(train_data, train_target)\n",
    "q4_n = knn_search.best_params_\n",
    "q4_score = knn_search.score(test_data, test_target)\n",
    "# Leave this line here to print the result\n",
    "print(\"Optimal n_neighors:\", q4_n)\n",
    "print(\"Accuracy on training data:\", knn_search.score(train_data, train_target))\n",
    "print(\"Accuracy on testing data:\", q4_score)\n"
   ]
  },
  {
   "cell_type": "markdown",
   "metadata": {},
   "source": [
    "# Additional Analysis\n",
    "\n",
    "This section should contain one more analysis of your choosing. It can be like any of the other analysis sections."
   ]
  },
  {
   "cell_type": "markdown",
   "metadata": {},
   "source": [
    "For additional hypothesis testing, we can do a test of more than two means, called ANOVA testing. \n",
    "\n",
    "The null hypothesis is that the average star rating for a professor is not different between any of the five regions. \n",
    "\n",
    "The alternative hypothesis is that the average star rating for a professor IS different between at least two of these five regions. \n",
    "\n",
    "As we can see below, the p value that we obtain from ANOVA testing is less than 0.05, so we can reject the null hypothesis that all regions have the same average star rating given to a professor. "
   ]
  },
  {
   "cell_type": "code",
   "execution_count": 18,
   "metadata": {},
   "outputs": [
    {
     "name": "stdout",
     "output_type": "stream",
     "text": [
      "                sum_sq       df         F    PR(>F)\n",
      "region       44.319380      4.0  5.584266  0.000173\n",
      "Residual  36103.021563  18196.0       NaN       NaN\n"
     ]
    }
   ],
   "source": [
    "import statsmodels.api as sm\n",
    "from statsmodels.formula.api import ols\n",
    "\n",
    "mod = ols('student_star ~ region', data = H_df).fit()\n",
    "aov_table = sm.stats.anova_lm(mod,typ=2)\n",
    "print(aov_table)"
   ]
  },
  {
   "cell_type": "markdown",
   "metadata": {},
   "source": [
    "# Conclusion\n",
    "\n",
    "Our main goal was to analyze the correlation between the geographical regions of the United States and other factors in the data set, primarily the number of stars given to a professor. First, our visualizations showed minor differences between each region's distribution of stars given as well as summary statistics. Second, in our initial hypothesis test we were able to reject the null hypothesis that the Midwest region's professors have the same average star rating as the Northeast region's professors. We also used ANOVA analysis in our additional analysis section to reject the null hypothesis that all regions have the same average star rating. Lastly, though our model did not prove to be exceedingly accurate, we used a logistic prediction model to predict which region between the Northeast and Midwest a professor was from based off of star rating and city population. "
   ]
  },
  {
   "cell_type": "code",
   "execution_count": null,
   "metadata": {},
   "outputs": [],
   "source": []
  }
 ],
 "metadata": {
  "kernelspec": {
   "display_name": "Python 3",
   "language": "python",
   "name": "python3"
  },
  "language_info": {
   "codemirror_mode": {
    "name": "ipython",
    "version": 3
   },
   "file_extension": ".py",
   "mimetype": "text/x-python",
   "name": "python",
   "nbconvert_exporter": "python",
   "pygments_lexer": "ipython3",
   "version": "3.7.6"
  }
 },
 "nbformat": 4,
 "nbformat_minor": 5
}
