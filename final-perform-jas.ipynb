{
 "cells": [
  {
   "cell_type": "markdown",
   "metadata": {},
   "source": [
    "# Final Perform\n",
    "\n",
    "This is the final perform. This notebook is serves as a template for how you should structure your final submission. There are no autograded tests for this Perform. You should also feel free to add more cells and move sections around if you believe it will improve the cohesion of the assignment.\n",
    "\n",
    "The data is in RateMyProfessorSampleData.zip. You will need to unzip the file to access the data files. The data is a [sample data dump from RateMyProfessor.com](https://data.mendeley.com/datasets/fvtfjyvw7d/2).\n",
    "\n",
    "When you finish please go to Kernel --> Restart and Run All, and then double check that your notebook looks correct before saving and submitting your .ipynb file (the notebook file) on gradescope. There is no autograder for this Perform. It is entirely manually graded."
   ]
  },
  {
   "cell_type": "code",
   "execution_count": 1,
   "metadata": {},
   "outputs": [
    {
     "name": "stdout",
     "output_type": "stream",
     "text": [
      "0.11.0\n"
     ]
    }
   ],
   "source": [
    "# Run this code cell to import relevant libraries\n",
    "# Feel free to add any other libraries here or later in your notebook\n",
    "# Please update to seaborn v0.11 for this assignment\n",
    "# check version: print(sns.__version__)\n",
    "\n",
    "import numpy as np\n",
    "import pandas as pd\n",
    "import seaborn as sns\n",
    "from scipy import stats\n",
    "import matplotlib.pyplot as plt\n",
    "sns.set_theme()\n",
    "\n",
    "print(sns.__version__)"
   ]
  },
  {
   "cell_type": "markdown",
   "metadata": {},
   "source": [
    "# Introduction\n",
    "\n",
    "*Add text here if you would like to provide an introduction to your analysis that will add to the notebook's cohesion*"
   ]
  },
  {
   "cell_type": "markdown",
   "metadata": {},
   "source": [
    "# Data Processing\n",
    "\n",
    "This section should have all of your data loading and cleaning code where you load and create your DataFrame(s). It does not need to contain all of the data processing code if creating a new column or table in a later section makes more sense for explanation and cohesion."
   ]
  },
  {
   "cell_type": "code",
   "execution_count": 2,
   "metadata": {},
   "outputs": [
    {
     "name": "stdout",
     "output_type": "stream",
     "text": [
      "  professor_name local_name state_name  avg_rating  student_star\n",
      "0    Mimi  Kline    Newtown         PA    5.000000           5.0\n",
      "1  Dennis  Jones    Turlock         CA    4.236842           4.0\n",
      "2  Dennis  Jones    Turlock         CA    4.236842           1.0\n",
      "3  Dennis  Jones    Turlock         CA    4.236842           3.5\n",
      "4  Dennis  Jones    Turlock         CA    4.236842           2.5\n"
     ]
    }
   ],
   "source": [
    "import glob\n",
    "import os\n",
    "\n",
    "# function that parses the individual csv files into the necessary format\n",
    "def parseFile(file):\n",
    "    df = pd.read_csv(file)\n",
    "    avg_rating = np.mean(df['student_star'])\n",
    "    df['avg_rating'] = avg_rating\n",
    "    #df = df.drop_duplicates(subset = ['professor_name'])\n",
    "    df = df[['professor_name', 'local_name', 'state_name', 'avg_rating', 'student_star']]\n",
    "    return df\n",
    "\n",
    "# merging the files into one dataframe\n",
    "joined_files = os.path.join(\"RateMyProfessorSampleData\", \"data*.csv\")\n",
    "#joined_files = os.path.join(\"/Users/gerbe/Downloads/RateMyProfessorSampleData\", \"data*.csv\")\n",
    "joined_list = glob.glob(joined_files)\n",
    "df = pd.concat(map(parseFile, joined_list), ignore_index=True)\n",
    "print(df.head())"
   ]
  },
  {
   "cell_type": "code",
   "execution_count": 3,
   "metadata": {},
   "outputs": [
    {
     "name": "stdout",
     "output_type": "stream",
     "text": [
      "(19685, 5)\n"
     ]
    }
   ],
   "source": [
    "print(df.shape)"
   ]
  },
  {
   "cell_type": "code",
   "execution_count": 4,
   "metadata": {},
   "outputs": [],
   "source": [
    "# We add a region label to the each row\n",
    "# N - North East W - West M - Mid West S - South O - Other\n",
    "region_map = {\n",
    "        'AK': 'O',\n",
    "        'AL': 'S',\n",
    "        'AR': 'S',\n",
    "        'AS': 'O',\n",
    "        'AZ': 'W',\n",
    "        'CA': 'W',\n",
    "        'CO': 'W',\n",
    "        'CT': 'N',\n",
    "        'DC': 'N',\n",
    "        'DE': 'N',\n",
    "        'FL': 'S',\n",
    "        'GA': 'S',\n",
    "        'GU': 'O',\n",
    "        'HI': 'O',\n",
    "        'IA': 'M',\n",
    "        'ID': 'W',\n",
    "        'IL': 'M',\n",
    "        'IN': 'M',\n",
    "        'KS': 'M',\n",
    "        'KY': 'S',\n",
    "        'LA': 'S',\n",
    "        'MA': 'N',\n",
    "        'MD': 'N',\n",
    "        'ME': 'N',\n",
    "        'MI': 'W',\n",
    "        'MN': 'M',\n",
    "        'MO': 'M',\n",
    "        'MP': 'O',\n",
    "        'MS': 'S',\n",
    "        'MT': 'W',\n",
    "        'NA': 'O',\n",
    "        'NC': 'S',\n",
    "        'ND': 'M',\n",
    "        'NE': 'W',\n",
    "        'NH': 'N',\n",
    "        'NJ': 'N',\n",
    "        'NM': 'W',\n",
    "        'NV': 'W',\n",
    "        'NY': 'N',\n",
    "        'OH': 'M',\n",
    "        'OK': 'S',\n",
    "        'OR': 'W',\n",
    "        'PA': 'N',\n",
    "        'PR': 'O',\n",
    "        'RI': 'N',\n",
    "        'SC': 'S',\n",
    "        'SD': 'M',\n",
    "        'TN': 'S',\n",
    "        'TX': 'S',\n",
    "        'UT': 'W',\n",
    "        'VA': 'S',\n",
    "        'VI': 'O',\n",
    "        'VT': 'N',\n",
    "        'WA': 'W',\n",
    "        'WI': 'M',\n",
    "        'WV': 'S',\n",
    "        'WY': 'W'\n",
    "}\n",
    "df['state_name'] = df['state_name'].str.replace(' ', '')\n",
    "df['region'] = df['state_name'].map(region_map)"
   ]
  },
  {
   "cell_type": "code",
   "execution_count": 5,
   "metadata": {},
   "outputs": [
    {
     "data": {
      "text/html": [
       "<div>\n",
       "<style scoped>\n",
       "    .dataframe tbody tr th:only-of-type {\n",
       "        vertical-align: middle;\n",
       "    }\n",
       "\n",
       "    .dataframe tbody tr th {\n",
       "        vertical-align: top;\n",
       "    }\n",
       "\n",
       "    .dataframe thead th {\n",
       "        text-align: right;\n",
       "    }\n",
       "</style>\n",
       "<table border=\"1\" class=\"dataframe\">\n",
       "  <thead>\n",
       "    <tr style=\"text-align: right;\">\n",
       "      <th></th>\n",
       "      <th>professor_name</th>\n",
       "      <th>local_name</th>\n",
       "      <th>state_name</th>\n",
       "      <th>avg_rating</th>\n",
       "      <th>student_star</th>\n",
       "      <th>region</th>\n",
       "    </tr>\n",
       "  </thead>\n",
       "  <tbody>\n",
       "    <tr>\n",
       "      <th>0</th>\n",
       "      <td>Mimi  Kline</td>\n",
       "      <td>Newtown</td>\n",
       "      <td>PA</td>\n",
       "      <td>5.000000</td>\n",
       "      <td>5.0</td>\n",
       "      <td>N</td>\n",
       "    </tr>\n",
       "    <tr>\n",
       "      <th>1</th>\n",
       "      <td>Dennis  Jones</td>\n",
       "      <td>Turlock</td>\n",
       "      <td>CA</td>\n",
       "      <td>4.236842</td>\n",
       "      <td>4.0</td>\n",
       "      <td>W</td>\n",
       "    </tr>\n",
       "    <tr>\n",
       "      <th>2</th>\n",
       "      <td>Dennis  Jones</td>\n",
       "      <td>Turlock</td>\n",
       "      <td>CA</td>\n",
       "      <td>4.236842</td>\n",
       "      <td>1.0</td>\n",
       "      <td>W</td>\n",
       "    </tr>\n",
       "    <tr>\n",
       "      <th>3</th>\n",
       "      <td>Dennis  Jones</td>\n",
       "      <td>Turlock</td>\n",
       "      <td>CA</td>\n",
       "      <td>4.236842</td>\n",
       "      <td>3.5</td>\n",
       "      <td>W</td>\n",
       "    </tr>\n",
       "    <tr>\n",
       "      <th>4</th>\n",
       "      <td>Dennis  Jones</td>\n",
       "      <td>Turlock</td>\n",
       "      <td>CA</td>\n",
       "      <td>4.236842</td>\n",
       "      <td>2.5</td>\n",
       "      <td>W</td>\n",
       "    </tr>\n",
       "  </tbody>\n",
       "</table>\n",
       "</div>"
      ],
      "text/plain": [
       "  professor_name local_name state_name  avg_rating  student_star region\n",
       "0    Mimi  Kline    Newtown         PA    5.000000           5.0      N\n",
       "1  Dennis  Jones    Turlock         CA    4.236842           4.0      W\n",
       "2  Dennis  Jones    Turlock         CA    4.236842           1.0      W\n",
       "3  Dennis  Jones    Turlock         CA    4.236842           3.5      W\n",
       "4  Dennis  Jones    Turlock         CA    4.236842           2.5      W"
      ]
     },
     "execution_count": 5,
     "metadata": {},
     "output_type": "execute_result"
    }
   ],
   "source": [
    "df.head()"
   ]
  },
  {
   "cell_type": "code",
   "execution_count": 7,
   "metadata": {},
   "outputs": [
    {
     "data": {
      "text/html": [
       "<div>\n",
       "<style scoped>\n",
       "    .dataframe tbody tr th:only-of-type {\n",
       "        vertical-align: middle;\n",
       "    }\n",
       "\n",
       "    .dataframe tbody tr th {\n",
       "        vertical-align: top;\n",
       "    }\n",
       "\n",
       "    .dataframe thead th {\n",
       "        text-align: right;\n",
       "    }\n",
       "</style>\n",
       "<table border=\"1\" class=\"dataframe\">\n",
       "  <thead>\n",
       "    <tr style=\"text-align: right;\">\n",
       "      <th></th>\n",
       "      <th>professor_name</th>\n",
       "      <th>local_name</th>\n",
       "      <th>state_name</th>\n",
       "      <th>avg_rating</th>\n",
       "      <th>student_star</th>\n",
       "      <th>region</th>\n",
       "      <th>population</th>\n",
       "    </tr>\n",
       "  </thead>\n",
       "  <tbody>\n",
       "    <tr>\n",
       "      <th>0</th>\n",
       "      <td>Mimi  Kline</td>\n",
       "      <td>Newtown</td>\n",
       "      <td>PA</td>\n",
       "      <td>5.000000</td>\n",
       "      <td>5.0</td>\n",
       "      <td>N</td>\n",
       "      <td>NaN</td>\n",
       "    </tr>\n",
       "    <tr>\n",
       "      <th>1</th>\n",
       "      <td>Dennis  Jones</td>\n",
       "      <td>Turlock</td>\n",
       "      <td>CA</td>\n",
       "      <td>4.236842</td>\n",
       "      <td>4.0</td>\n",
       "      <td>W</td>\n",
       "      <td>4300.0</td>\n",
       "    </tr>\n",
       "    <tr>\n",
       "      <th>2</th>\n",
       "      <td>Dennis  Jones</td>\n",
       "      <td>Turlock</td>\n",
       "      <td>CA</td>\n",
       "      <td>4.236842</td>\n",
       "      <td>1.0</td>\n",
       "      <td>W</td>\n",
       "      <td>4300.0</td>\n",
       "    </tr>\n",
       "    <tr>\n",
       "      <th>3</th>\n",
       "      <td>Dennis  Jones</td>\n",
       "      <td>Turlock</td>\n",
       "      <td>CA</td>\n",
       "      <td>4.236842</td>\n",
       "      <td>3.5</td>\n",
       "      <td>W</td>\n",
       "      <td>4300.0</td>\n",
       "    </tr>\n",
       "    <tr>\n",
       "      <th>4</th>\n",
       "      <td>Dennis  Jones</td>\n",
       "      <td>Turlock</td>\n",
       "      <td>CA</td>\n",
       "      <td>4.236842</td>\n",
       "      <td>2.5</td>\n",
       "      <td>W</td>\n",
       "      <td>4300.0</td>\n",
       "    </tr>\n",
       "  </tbody>\n",
       "</table>\n",
       "</div>"
      ],
      "text/plain": [
       "  professor_name local_name state_name  avg_rating  student_star region  \\\n",
       "0    Mimi  Kline    Newtown         PA    5.000000           5.0      N   \n",
       "1  Dennis  Jones    Turlock         CA    4.236842           4.0      W   \n",
       "2  Dennis  Jones    Turlock         CA    4.236842           1.0      W   \n",
       "3  Dennis  Jones    Turlock         CA    4.236842           3.5      W   \n",
       "4  Dennis  Jones    Turlock         CA    4.236842           2.5      W   \n",
       "\n",
       "   population  \n",
       "0         NaN  \n",
       "1      4300.0  \n",
       "2      4300.0  \n",
       "3      4300.0  \n",
       "4      4300.0  "
      ]
     },
     "execution_count": 7,
     "metadata": {},
     "output_type": "execute_result"
    }
   ],
   "source": [
    "# create copy of df that also takes the population into account\n",
    "df1 = df\n",
    "pop = pd.read_csv('uscitypopdensity.csv')\n",
    "pop['City'] = pop['City'].str.replace(' ', '')\n",
    "mapping = dict(pop[['City', 'Population Density (Persons/Square Mile)']].values)\n",
    "df1['local_name'] = df1['local_name'].str.replace(' ', '')\n",
    "df1['population'] = df1['local_name'].map(mapping)\n",
    "df1.head()"
   ]
  },
  {
   "cell_type": "code",
   "execution_count": 8,
   "metadata": {},
   "outputs": [
    {
     "name": "stderr",
     "output_type": "stream",
     "text": [
      "/Users/psuedoche/opt/anaconda3/lib/python3.7/site-packages/ipykernel_launcher.py:3: SettingWithCopyWarning: \n",
      "A value is trying to be set on a copy of a slice from a DataFrame.\n",
      "Try using .loc[row_indexer,col_indexer] = value instead\n",
      "\n",
      "See the caveats in the documentation: https://pandas.pydata.org/pandas-docs/stable/user_guide/indexing.html#returning-a-view-versus-a-copy\n",
      "  This is separate from the ipykernel package so we can avoid doing imports until\n"
     ]
    },
    {
     "data": {
      "text/html": [
       "<div>\n",
       "<style scoped>\n",
       "    .dataframe tbody tr th:only-of-type {\n",
       "        vertical-align: middle;\n",
       "    }\n",
       "\n",
       "    .dataframe tbody tr th {\n",
       "        vertical-align: top;\n",
       "    }\n",
       "\n",
       "    .dataframe thead th {\n",
       "        text-align: right;\n",
       "    }\n",
       "</style>\n",
       "<table border=\"1\" class=\"dataframe\">\n",
       "  <thead>\n",
       "    <tr style=\"text-align: right;\">\n",
       "      <th></th>\n",
       "      <th>professor_name</th>\n",
       "      <th>local_name</th>\n",
       "      <th>state_name</th>\n",
       "      <th>avg_rating</th>\n",
       "      <th>student_star</th>\n",
       "      <th>region</th>\n",
       "      <th>population</th>\n",
       "    </tr>\n",
       "  </thead>\n",
       "  <tbody>\n",
       "    <tr>\n",
       "      <th>0</th>\n",
       "      <td>Mimi  Kline</td>\n",
       "      <td>Newtown</td>\n",
       "      <td>PA</td>\n",
       "      <td>5.000000</td>\n",
       "      <td>5.0</td>\n",
       "      <td>N</td>\n",
       "      <td>0.0</td>\n",
       "    </tr>\n",
       "    <tr>\n",
       "      <th>1</th>\n",
       "      <td>Dennis  Jones</td>\n",
       "      <td>Turlock</td>\n",
       "      <td>CA</td>\n",
       "      <td>4.236842</td>\n",
       "      <td>4.0</td>\n",
       "      <td>W</td>\n",
       "      <td>4300.0</td>\n",
       "    </tr>\n",
       "    <tr>\n",
       "      <th>20</th>\n",
       "      <td>Mario  Perez</td>\n",
       "      <td>NewBrunswick</td>\n",
       "      <td>NJ</td>\n",
       "      <td>2.750000</td>\n",
       "      <td>1.5</td>\n",
       "      <td>N</td>\n",
       "      <td>10881.0</td>\n",
       "    </tr>\n",
       "    <tr>\n",
       "      <th>22</th>\n",
       "      <td>Eddie  Tapia</td>\n",
       "      <td>WinterPark</td>\n",
       "      <td>FL</td>\n",
       "      <td>3.100000</td>\n",
       "      <td>3.5</td>\n",
       "      <td>S</td>\n",
       "      <td>0.0</td>\n",
       "    </tr>\n",
       "    <tr>\n",
       "      <th>27</th>\n",
       "      <td>S  Saini</td>\n",
       "      <td>Flushing</td>\n",
       "      <td>NY</td>\n",
       "      <td>4.750000</td>\n",
       "      <td>5.0</td>\n",
       "      <td>N</td>\n",
       "      <td>0.0</td>\n",
       "    </tr>\n",
       "    <tr>\n",
       "      <th>...</th>\n",
       "      <td>...</td>\n",
       "      <td>...</td>\n",
       "      <td>...</td>\n",
       "      <td>...</td>\n",
       "      <td>...</td>\n",
       "      <td>...</td>\n",
       "      <td>...</td>\n",
       "    </tr>\n",
       "    <tr>\n",
       "      <th>19668</th>\n",
       "      <td>Das  Panda</td>\n",
       "      <td>PrincessAnne</td>\n",
       "      <td>MD</td>\n",
       "      <td>2.250000</td>\n",
       "      <td>1.0</td>\n",
       "      <td>N</td>\n",
       "      <td>0.0</td>\n",
       "    </tr>\n",
       "    <tr>\n",
       "      <th>19670</th>\n",
       "      <td>Mitchell  Graham</td>\n",
       "      <td>Baltimore</td>\n",
       "      <td>MD</td>\n",
       "      <td>3.785714</td>\n",
       "      <td>5.0</td>\n",
       "      <td>N</td>\n",
       "      <td>7594.0</td>\n",
       "    </tr>\n",
       "    <tr>\n",
       "      <th>19677</th>\n",
       "      <td>Roger  Hamrick</td>\n",
       "      <td>Carson</td>\n",
       "      <td>CA</td>\n",
       "      <td>1.000000</td>\n",
       "      <td>1.0</td>\n",
       "      <td>W</td>\n",
       "      <td>4957.0</td>\n",
       "    </tr>\n",
       "    <tr>\n",
       "      <th>19679</th>\n",
       "      <td>Debbie  Damiani</td>\n",
       "      <td>Wyomissing</td>\n",
       "      <td>PA</td>\n",
       "      <td>3.300000</td>\n",
       "      <td>4.5</td>\n",
       "      <td>N</td>\n",
       "      <td>0.0</td>\n",
       "    </tr>\n",
       "    <tr>\n",
       "      <th>19684</th>\n",
       "      <td>Felicia  Middlebrooks</td>\n",
       "      <td>Chicago</td>\n",
       "      <td>IL</td>\n",
       "      <td>5.000000</td>\n",
       "      <td>5.0</td>\n",
       "      <td>M</td>\n",
       "      <td>11883.0</td>\n",
       "    </tr>\n",
       "  </tbody>\n",
       "</table>\n",
       "<p>2766 rows × 7 columns</p>\n",
       "</div>"
      ],
      "text/plain": [
       "              professor_name    local_name state_name  avg_rating  \\\n",
       "0                Mimi  Kline       Newtown         PA    5.000000   \n",
       "1              Dennis  Jones       Turlock         CA    4.236842   \n",
       "20              Mario  Perez  NewBrunswick         NJ    2.750000   \n",
       "22              Eddie  Tapia    WinterPark         FL    3.100000   \n",
       "27                  S  Saini      Flushing         NY    4.750000   \n",
       "...                      ...           ...        ...         ...   \n",
       "19668             Das  Panda  PrincessAnne         MD    2.250000   \n",
       "19670       Mitchell  Graham     Baltimore         MD    3.785714   \n",
       "19677         Roger  Hamrick        Carson         CA    1.000000   \n",
       "19679        Debbie  Damiani    Wyomissing         PA    3.300000   \n",
       "19684  Felicia  Middlebrooks       Chicago         IL    5.000000   \n",
       "\n",
       "       student_star region  population  \n",
       "0               5.0      N         0.0  \n",
       "1               4.0      W      4300.0  \n",
       "20              1.5      N     10881.0  \n",
       "22              3.5      S         0.0  \n",
       "27              5.0      N         0.0  \n",
       "...             ...    ...         ...  \n",
       "19668           1.0      N         0.0  \n",
       "19670           5.0      N      7594.0  \n",
       "19677           1.0      W      4957.0  \n",
       "19679           4.5      N         0.0  \n",
       "19684           5.0      M     11883.0  \n",
       "\n",
       "[2766 rows x 7 columns]"
      ]
     },
     "execution_count": 8,
     "metadata": {},
     "output_type": "execute_result"
    }
   ],
   "source": [
    "# only one row for each professor\n",
    "avg_ratings_df = df1.drop_duplicates(subset = ['professor_name'])\n",
    "avg_ratings_df['population'] = avg_ratings_df['population'].replace(np.nan, 0)\n",
    "avg_ratings_df\n",
    "\n",
    "# currently we are assuming small towns to have population zero?"
   ]
  },
  {
   "cell_type": "code",
   "execution_count": 9,
   "metadata": {},
   "outputs": [
    {
     "name": "stdout",
     "output_type": "stream",
     "text": [
      "12076\n"
     ]
    }
   ],
   "source": [
    "print(len(df1.dropna()))"
   ]
  },
  {
   "cell_type": "code",
   "execution_count": 10,
   "metadata": {},
   "outputs": [
    {
     "data": {
      "text/plain": [
       "<matplotlib.axes._subplots.AxesSubplot at 0x7ffb32cc6410>"
      ]
     },
     "execution_count": 10,
     "metadata": {},
     "output_type": "execute_result"
    },
    {
     "data": {
      "image/png": "[encoded data removed]",
      "text/plain": [
       "<Figure size 432x288 with 1 Axes>"
      ]
     },
     "metadata": {},
     "output_type": "display_data"
    }
   ],
   "source": [
    "sns.scatterplot(data = df1, x = 'population', y = 'avg_rating', hue= 'region')\n",
    "\n",
    "# this is a good scatter plot"
   ]
  },
  {
   "cell_type": "code",
   "execution_count": null,
   "metadata": {},
   "outputs": [],
   "source": []
  },
  {
   "cell_type": "code",
   "execution_count": null,
   "metadata": {},
   "outputs": [],
   "source": []
  },
  {
   "cell_type": "code",
   "execution_count": null,
   "metadata": {},
   "outputs": [],
   "source": []
  },
  {
   "cell_type": "markdown",
   "metadata": {},
   "source": [
    "# Visualization\n",
    "\n",
    "This section should contain at least one visualization showing something informative about the data. The skills you learned for this section primarily come from Module 5B."
   ]
  },
  {
   "cell_type": "code",
   "execution_count": 90,
   "metadata": {},
   "outputs": [
    {
     "data": {
      "text/plain": [
       "<seaborn.axisgrid.FacetGrid at 0x7ffb3775fa50>"
      ]
     },
     "execution_count": 90,
     "metadata": {},
     "output_type": "execute_result"
    },
    {
     "data": {
      "image/png": "[encoded data removed]",
      "text/plain": [
       "<Figure size 360x360 with 1 Axes>"
      ]
     },
     "metadata": {},
     "output_type": "display_data"
    }
   ],
   "source": [
    "sns.catplot(data = avg_ratings_df, x = 'region', y = 'avg_rating', kind='box')"
   ]
  },
  {
   "cell_type": "code",
   "execution_count": 12,
   "metadata": {},
   "outputs": [
    {
     "data": {
      "text/plain": [
       "<seaborn.axisgrid.FacetGrid at 0x7ffb329d7dd0>"
      ]
     },
     "execution_count": 12,
     "metadata": {},
     "output_type": "execute_result"
    },
    {
     "data": {
      "image/png": "[encoded data removed]",
      "text/plain": [
       "<Figure size 360x360 with 1 Axes>"
      ]
     },
     "metadata": {},
     "output_type": "display_data"
    }
   ],
   "source": [
    "# average ratings for each region \n",
    "sns.catplot(data = avg_ratings_df, x = 'region', y = 'avg_rating', kind='box')"
   ]
  },
  {
   "cell_type": "code",
   "execution_count": 85,
   "metadata": {},
   "outputs": [
    {
     "data": {
      "text/plain": [
       "<seaborn.axisgrid.FacetGrid at 0x7ffb32613b10>"
      ]
     },
     "execution_count": 85,
     "metadata": {},
     "output_type": "execute_result"
    },
    {
     "data": {
      "image/png": "[encoded data removed]",
      "text/plain": [
       "<Figure size 360x360 with 1 Axes>"
      ]
     },
     "metadata": {},
     "output_type": "display_data"
    }
   ],
   "source": [
    "sns.catplot(data = df1, x = 'student_star', y = 'region', kind = 'bar')"
   ]
  },
  {
   "cell_type": "code",
   "execution_count": 14,
   "metadata": {},
   "outputs": [
    {
     "name": "stdout",
     "output_type": "stream",
     "text": [
      "        avg_rating  student_star    population\n",
      "count  5435.000000   5435.000000   2519.000000\n",
      "mean      3.825023      3.825023  12527.047638\n",
      "std       0.935441      1.385595   9854.599987\n",
      "min       1.000000      1.000000    885.000000\n",
      "25%       3.236111      3.000000   4991.000000\n",
      "50%       4.075000      4.500000   8141.000000\n",
      "75%       4.600000      5.000000  28211.000000\n",
      "max       5.000000      5.000000  42484.000000\n",
      "        avg_rating  student_star    population\n",
      "count  6285.000000   6282.000000   5014.000000\n",
      "mean      3.779962      3.780325   5458.030315\n",
      "std       0.915007      1.401625   3072.290711\n",
      "min       1.000000      1.000000    913.000000\n",
      "25%       3.125000      3.000000   3495.000000\n",
      "50%       4.000000      4.500000   4570.000000\n",
      "75%       4.500000      5.000000   6841.000000\n",
      "max       5.000000      5.000000  18581.000000\n",
      "        avg_rating  student_star    population\n",
      "count  4007.000000   4003.000000   2775.000000\n",
      "mean      3.744094      3.743567   2858.299459\n",
      "std       0.954294      1.432124   1964.195442\n",
      "min       1.000000      1.000000    683.000000\n",
      "25%       3.091667      2.500000   1727.000000\n",
      "50%       3.928571      4.500000   2450.000000\n",
      "75%       4.500000      5.000000   3326.000000\n",
      "max       5.000000      5.000000  15568.000000\n",
      "        avg_rating  student_star    population\n",
      "count  2397.000000   2391.000000   1727.000000\n",
      "mean      3.683790      3.684023   4332.693109\n",
      "std       0.986001      1.438128   3352.296274\n",
      "min       1.000000      1.000000    913.000000\n",
      "25%       3.000000      2.500000   2336.000000\n",
      "50%       3.928571      4.000000   2957.000000\n",
      "75%       4.545455      5.000000   5030.000000\n",
      "max       5.000000      5.000000  11883.000000\n",
      "       avg_rating  student_star  population\n",
      "count   90.000000     90.000000        54.0\n",
      "mean     4.050000      4.050000       175.0\n",
      "std      1.119376      1.422235         0.0\n",
      "min      2.025000      1.000000       175.0\n",
      "25%      4.100000      3.625000       175.0\n",
      "50%      4.575000      5.000000       175.0\n",
      "75%      4.666667      5.000000       175.0\n",
      "max      5.000000      5.000000       175.0\n"
     ]
    },
    {
     "data": {
      "image/png": "[encoded data removed]",
      "text/plain": [
       "<Figure size 360x360 with 1 Axes>"
      ]
     },
     "metadata": {},
     "output_type": "display_data"
    },
    {
     "data": {
      "image/png": "[encoded data removed]",
      "text/plain": [
       "<Figure size 360x360 with 1 Axes>"
      ]
     },
     "metadata": {},
     "output_type": "display_data"
    },
    {
     "data": {
      "image/png": "[encoded data removed]",
      "text/plain": [
       "<Figure size 360x360 with 1 Axes>"
      ]
     },
     "metadata": {},
     "output_type": "display_data"
    },
    {
     "data": {
      "image/png": "[encoded data removed]",
      "text/plain": [
       "<Figure size 360x360 with 1 Axes>"
      ]
     },
     "metadata": {},
     "output_type": "display_data"
    },
    {
     "data": {
      "image/png": "[encoded data removed]",
      "text/plain": [
       "<Figure size 360x360 with 1 Axes>"
      ]
     },
     "metadata": {},
     "output_type": "display_data"
    }
   ],
   "source": [
    "# visualization of the distribution of each regions ratings \n",
    "regions = ['N', 'W','S','M','O']\n",
    "for r in regions:\n",
    "    sns.displot(data = df[df['region'] == r], x = 'student_star')\n",
    "    plt.axvline(x=df.student_star.median(), color='red')\n",
    "    print(df[df['region'] == r].describe())"
   ]
  },
  {
   "cell_type": "markdown",
   "metadata": {},
   "source": [
    "# Hypothesis Test\n",
    "\n",
    "This section should contain at least one hypothesis test about the data. The skills you learned for this section primarily came from Module 3B."
   ]
  },
  {
   "cell_type": "code",
   "execution_count": 28,
   "metadata": {},
   "outputs": [
    {
     "name": "stdout",
     "output_type": "stream",
     "text": [
      "the p value is 4.126449923004665e-05\n"
     ]
    }
   ],
   "source": [
    "H_df = df1 #create a df for the hypothesis test section\n",
    "MWonly = H_df[H_df['region'] == 'M']\n",
    "NEonly = H_df[H_df['region'] == 'N']\n",
    "result = stats.ttest_ind_from_stats(mean1 = np.mean(MWonly['student_star']), std1 = np.std(MWonly['student_star']), nobs1 = len(MWonly['student_star']),\n",
    "                                 mean2 = np.mean(NEonly['student_star']), std2 = np.std(NEonly['student_star']), nobs2 = len(NEonly['student_star']))\n",
    "\n",
    "print(\"the p value is {}\".format(result.pvalue))"
   ]
  },
  {
   "cell_type": "markdown",
   "metadata": {},
   "source": [
    "For a test of two means, we can use ttest_ind_from_stats.\n",
    "\n",
    "The null hypothesis is that the average star rating for a professor is not different between the Midwest region and the Northeast region. \n",
    "\n",
    "The alternative hypothesis is that the average star rating for a professor IS different between these two regions. \n",
    "\n",
    "Since the p-value is far below 0.05, we can reject the null hypothesis that the average star rating for professors is the same between the Midwest region and the Northeast region."
   ]
  },
  {
   "cell_type": "markdown",
   "metadata": {},
   "source": [
    "# Prediction\n",
    "\n",
    "This section should contain the creation and testing of at least one model. The skills you learned for this section primarily came from Module 6."
   ]
  },
  {
   "cell_type": "code",
   "execution_count": 93,
   "metadata": {},
   "outputs": [
    {
     "data": {
      "image/png": "[encoded data removed]",
      "text/plain": [
       "<Figure size 432x288 with 2 Axes>"
      ]
     },
     "metadata": {},
     "output_type": "display_data"
    },
    {
     "name": "stdout",
     "output_type": "stream",
     "text": [
      "[[ 212 1509]\n",
      " [ 198 2321]]\n",
      "There are 1509 false positives and 198 false negatives\n",
      "The accuracy score is 0.5974056603773585\n"
     ]
    }
   ],
   "source": [
    "from sklearn.linear_model import LogisticRegression\n",
    "from sklearn.metrics import accuracy_score\n",
    "from sklearn.metrics import confusion_matrix\n",
    "from sklearn.metrics import confusion_matrix, ConfusionMatrixDisplay\n",
    "import matplotlib.pyplot as plt # just to format confusion matrix\n",
    "\n",
    "# ratings that come from the NorthEast or Midwest\n",
    "both = df1[(df1['region'] == 'N') | (df1['region'] == 'M')]\n",
    "both = both.dropna()\n",
    "# making predictions based on all the \n",
    "data = both[['avg_rating']].values\n",
    "target = both['region'].values\n",
    "logistic_model = LogisticRegression()\n",
    "logistic_model.fit(X=data, y = target)\n",
    "\n",
    "both['predicted_region'] = logistic_model.predict(data)\n",
    "\n",
    "cf = confusion_matrix(both['region'],both['predicted_region'])\n",
    "disp = ConfusionMatrixDisplay(confusion_matrix=cf, display_labels=both[\"region\"].unique())\n",
    "disp.plot()\n",
    "plt.grid(False) #gets rid of white lines\n",
    "plt.show()\n",
    "print(cf) # plaintext version of confusion matrix\n",
    "\n",
    "print(\"There are {} false positives and {} false negatives\".format(cf[0][1], cf[1][0]))\n",
    "\n",
    "score = accuracy_score(both['region'], both['predicted_region']) # The accuracy score of the prediction\n",
    "print(\"The accuracy score is {}\".format(score))"
   ]
  },
  {
   "cell_type": "code",
   "execution_count": 94,
   "metadata": {},
   "outputs": [],
   "source": [
    "df2 = df1.dropna()\n",
    "data = df2[['student_star']]\n",
    "target = df2['region']\n",
    "from sklearn.model_selection import train_test_split\n",
    "# splitting the data into training and testing sets\n",
    "train_data, test_data, train_target, test_target = train_test_split(\n",
    "    data, target, test_size=0.4, random_state=1)"
   ]
  },
  {
   "cell_type": "code",
   "execution_count": 95,
   "metadata": {},
   "outputs": [
    {
     "name": "stdout",
     "output_type": "stream",
     "text": [
      "(12076, 7)\n",
      "  professor_name local_name state_name  avg_rating  student_star region  \\\n",
      "1  Dennis  Jones    Turlock         CA    4.236842           4.0      W   \n",
      "2  Dennis  Jones    Turlock         CA    4.236842           1.0      W   \n",
      "3  Dennis  Jones    Turlock         CA    4.236842           3.5      W   \n",
      "4  Dennis  Jones    Turlock         CA    4.236842           2.5      W   \n",
      "5  Dennis  Jones    Turlock         CA    4.236842           5.0      W   \n",
      "\n",
      "   population  \n",
      "1      4300.0  \n",
      "2      4300.0  \n",
      "3      4300.0  \n",
      "4      4300.0  \n",
      "5      4300.0  \n",
      "       student_star\n",
      "18934           5.0\n",
      "5715            5.0\n",
      "7786            5.0\n",
      "13906           5.0\n",
      "3708            3.0\n",
      "...             ...\n",
      "12670           2.0\n",
      "17762           4.0\n",
      "1490            5.0\n",
      "8561            5.0\n",
      "404             2.0\n",
      "\n",
      "[7245 rows x 1 columns]\n"
     ]
    }
   ],
   "source": [
    "print(df2.shape)\n",
    "\n",
    "print(df2.head())\n",
    "print(train_data)"
   ]
  },
  {
   "cell_type": "code",
   "execution_count": 96,
   "metadata": {},
   "outputs": [
    {
     "name": "stdout",
     "output_type": "stream",
     "text": [
      "Optimal n_neighors: {'n_neighbors': 27}\n",
      "Accuracy on training data: 0.4104899930986888\n",
      "Accuracy on testing data: 0.42165183191885736\n"
     ]
    }
   ],
   "source": [
    "from sklearn.model_selection import cross_validate\n",
    "from sklearn.model_selection import GridSearchCV\n",
    "from sklearn.neighbors import KNeighborsClassifier\n",
    "\n",
    "params_to_try = {'n_neighbors': range(1, 30)}\n",
    "knn_search = GridSearchCV(estimator=KNeighborsClassifier(), param_grid=params_to_try)\n",
    "knn_search.fit(train_data, train_target)\n",
    "q4_n = knn_search.best_params_\n",
    "q4_score = knn_search.score(test_data, test_target)\n",
    "# Leave this line here to print the result\n",
    "print(\"Optimal n_neighors:\", q4_n)\n",
    "print(\"Accuracy on training data:\", knn_search.score(train_data, train_target))\n",
    "print(\"Accuracy on testing data:\", q4_score)\n"
   ]
  },
  {
   "cell_type": "markdown",
   "metadata": {},
   "source": [
    "# Additional Analysis\n",
    "\n",
    "This section should contain one more analysis of your choosing. It can be like any of the other analysis sections."
   ]
  },
  {
   "cell_type": "markdown",
   "metadata": {},
   "source": [
    "For additional hypothesis testing, we can do a test of more than two means, called ANOVA testing. \n",
    "\n",
    "The null hypothesis is that the average star rating for a professor is not different between any of the five regions. \n",
    "\n",
    "The alternative hypothesis is that the average star rating for a professor IS different between at least two of these five regions. \n",
    "\n",
    "As we can see below, the p value that we obtain from ANOVA testing is less than 0.05, so we can reject the null hypothesis that all regions have the same average star rating given to a professor. "
   ]
  },
  {
   "cell_type": "code",
   "execution_count": 18,
   "metadata": {},
   "outputs": [
    {
     "name": "stdout",
     "output_type": "stream",
     "text": [
      "                sum_sq       df         F    PR(>F)\n",
      "region       44.319380      4.0  5.584266  0.000173\n",
      "Residual  36103.021563  18196.0       NaN       NaN\n"
     ]
    }
   ],
   "source": [
    "import statsmodels.api as sm\n",
    "from statsmodels.formula.api import ols\n",
    "\n",
    "mod = ols('student_star ~ region', data = H_df).fit()\n",
    "aov_table = sm.stats.anova_lm(mod,typ=2)\n",
    "print(aov_table)"
   ]
  },
  {
   "cell_type": "markdown",
   "metadata": {},
   "source": [
    "# Conclusion\n",
    "\n",
    "Our main goal was to analyze the correlation between the geographical regions of the United States and other factors in the data set, primarily the number of stars given to a professor. First, our visualizations showed minor differences between each region's distribution of stars given as well as summary statistics. Second, in our initial hypothesis test we were able to reject the null hypothesis that the Midwest region's professors have the same average star rating as the Northeast region's professors. We also used ANOVA analysis in our additional analysis section to reject the null hypothesis that all regions have the same average star rating. Lastly, though our model did not prove to be exceedingly accurate, we used a logistic prediction model to predict which region between the Northeast and Midwest a professor was from based off of star rating and city population. "
   ]
  },
  {
   "cell_type": "code",
   "execution_count": null,
   "metadata": {},
   "outputs": [],
   "source": []
  }
 ],
 "metadata": {
  "kernelspec": {
   "display_name": "Python 3",
   "language": "python",
   "name": "python3"
  },
  "language_info": {
   "codemirror_mode": {
    "name": "ipython",
    "version": 3
   },
   "file_extension": ".py",
   "mimetype": "text/x-python",
   "name": "python",
   "nbconvert_exporter": "python",
   "pygments_lexer": "ipython3",
   "version": "3.7.6"
  }
 },
 "nbformat": 4,
 "nbformat_minor": 5
}
