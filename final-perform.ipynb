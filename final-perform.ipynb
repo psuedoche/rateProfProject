{
 "cells": [
  {
   "cell_type": "markdown",
   "metadata": {},
   "source": [
    "# Final Perform\n",
    "\n",
    "This is the final perform. This notebook is serves as a template for how you should structure your final submission. There are no autograded tests for this Perform. You should also feel free to add more cells and move sections around if you believe it will improve the cohesion of the assignment.\n",
    "\n",
    "The data is in RateMyProfessorSampleData.zip. You will need to unzip the file to access the data files. The data is a [sample data dump from RateMyProfessor.com](https://data.mendeley.com/datasets/fvtfjyvw7d/2).\n",
    "\n",
    "When you finish please go to Kernel --> Restart and Run All, and then double check that your notebook looks correct before saving and submitting your .ipynb file (the notebook file) on gradescope. There is no autograder for this Perform. It is entirely manually graded."
   ]
  },
  {
   "cell_type": "code",
   "execution_count": 113,
   "metadata": {},
   "outputs": [
    {
     "name": "stdout",
     "output_type": "stream",
     "text": [
      "0.11.0\n"
     ]
    }
   ],
   "source": [
    "# Run this code cell to import relevant libraries\n",
    "# Feel free to add any other libraries here or later in your notebook\n",
    "# Please update to seaborn v0.11 for this assignment\n",
    "# check version: print(sns.__version__)\n",
    "\n",
    "import numpy as np\n",
    "import pandas as pd\n",
    "import seaborn as sns\n",
    "from scipy import stats\n",
    "sns.set_theme()\n",
    "\n",
    "print(sns.__version__)"
   ]
  },
  {
   "cell_type": "markdown",
   "metadata": {},
   "source": [
    "# Introduction\n",
    "\n",
    "*Add text here if you would like to provide an introduction to your analysis that will add to the notebook's cohesion*"
   ]
  },
  {
   "cell_type": "markdown",
   "metadata": {},
   "source": [
    "# Data Processing\n",
    "\n",
    "This section should have all of your data loading and cleaning code where you load and create your DataFrame(s). It does not need to contain all of the data processing code if creating a new column or table in a later section makes more sense for explanation and cohesion."
   ]
  },
  {
   "cell_type": "code",
   "execution_count": 156,
   "metadata": {},
   "outputs": [
    {
     "name": "stdout",
     "output_type": "stream",
     "text": [
      "  professor_name state_name  avg_rating  student_star\n",
      "0    Mimi  Kline         PA    5.000000           5.0\n",
      "1  Dennis  Jones         CA    4.236842           4.0\n",
      "2  Dennis  Jones         CA    4.236842           1.0\n",
      "3  Dennis  Jones         CA    4.236842           3.5\n",
      "4  Dennis  Jones         CA    4.236842           2.5\n"
     ]
    }
   ],
   "source": [
    "import glob\n",
    "import os\n",
    "\n",
    "# function that parses the individual csv files into the necessary format\n",
    "def parseFile(file):\n",
    "    df = pd.read_csv(file)\n",
    "    avg_rating = np.mean(df['student_star'])\n",
    "    df['avg_rating'] = avg_rating\n",
    "    #df = df.drop_duplicates(subset = ['professor_name'])\n",
    "    df = df[['professor_name', 'state_name', 'avg_rating', 'student_star']]\n",
    "    return df\n",
    "\n",
    "# merging the files into one dataframe\n",
    "joined_files = os.path.join(\"RateMyProfessorSampleData\", \"data*.csv\")\n",
    "joined_list = glob.glob(joined_files)\n",
    "df = pd.concat(map(parseFile, joined_list), ignore_index=True)\n",
    "print(df.head())"
   ]
  },
  {
   "cell_type": "code",
   "execution_count": 145,
   "metadata": {},
   "outputs": [
    {
     "name": "stdout",
     "output_type": "stream",
     "text": [
      "(2770, 3)\n"
     ]
    }
   ],
   "source": [
    "print(df.shape)"
   ]
  },
  {
   "cell_type": "code",
   "execution_count": 157,
   "metadata": {},
   "outputs": [],
   "source": [
    "# N - North East W - West M - Mid West S - South O - Other\n",
    "region_map = {\n",
    "        'AK': 'O',\n",
    "        'AL': 'S',\n",
    "        'AR': 'S',\n",
    "        'AS': 'O',\n",
    "        'AZ': 'W',\n",
    "        'CA': 'W',\n",
    "        'CO': 'W',\n",
    "        'CT': 'N',\n",
    "        'DC': 'N',\n",
    "        'DE': 'N',\n",
    "        'FL': 'S',\n",
    "        'GA': 'S',\n",
    "        'GU': 'O',\n",
    "        'HI': 'O',\n",
    "        'IA': 'M',\n",
    "        'ID': 'W',\n",
    "        'IL': 'M',\n",
    "        'IN': 'M',\n",
    "        'KS': 'M',\n",
    "        'KY': 'S',\n",
    "        'LA': 'S',\n",
    "        'MA': 'N',\n",
    "        'MD': 'N',\n",
    "        'ME': 'N',\n",
    "        'MI': 'W',\n",
    "        'MN': 'M',\n",
    "        'MO': 'M',\n",
    "        'MP': 'O',\n",
    "        'MS': 'S',\n",
    "        'MT': 'W',\n",
    "        'NA': 'O',\n",
    "        'NC': 'S',\n",
    "        'ND': 'M',\n",
    "        'NE': 'W',\n",
    "        'NH': 'N',\n",
    "        'NJ': 'N',\n",
    "        'NM': 'W',\n",
    "        'NV': 'W',\n",
    "        'NY': 'N',\n",
    "        'OH': 'M',\n",
    "        'OK': 'S',\n",
    "        'OR': 'W',\n",
    "        'PA': 'N',\n",
    "        'PR': 'O',\n",
    "        'RI': 'N',\n",
    "        'SC': 'S',\n",
    "        'SD': 'M',\n",
    "        'TN': 'S',\n",
    "        'TX': 'S',\n",
    "        'UT': 'W',\n",
    "        'VA': 'S',\n",
    "        'VI': 'O',\n",
    "        'VT': 'N',\n",
    "        'WA': 'W',\n",
    "        'WI': 'M',\n",
    "        'WV': 'S',\n",
    "        'WY': 'W'\n",
    "}\n",
    "df['state_name'] = df['state_name'].str.replace(' ', '')\n",
    "df['region'] = df['state_name'].map(region_map)"
   ]
  },
  {
   "cell_type": "code",
   "execution_count": 158,
   "metadata": {},
   "outputs": [
    {
     "data": {
      "text/html": [
       "<div>\n",
       "<style scoped>\n",
       "    .dataframe tbody tr th:only-of-type {\n",
       "        vertical-align: middle;\n",
       "    }\n",
       "\n",
       "    .dataframe tbody tr th {\n",
       "        vertical-align: top;\n",
       "    }\n",
       "\n",
       "    .dataframe thead th {\n",
       "        text-align: right;\n",
       "    }\n",
       "</style>\n",
       "<table border=\"1\" class=\"dataframe\">\n",
       "  <thead>\n",
       "    <tr style=\"text-align: right;\">\n",
       "      <th></th>\n",
       "      <th>professor_name</th>\n",
       "      <th>state_name</th>\n",
       "      <th>avg_rating</th>\n",
       "      <th>student_star</th>\n",
       "      <th>region</th>\n",
       "    </tr>\n",
       "  </thead>\n",
       "  <tbody>\n",
       "    <tr>\n",
       "      <th>0</th>\n",
       "      <td>Mimi  Kline</td>\n",
       "      <td>PA</td>\n",
       "      <td>5.000000</td>\n",
       "      <td>5.0</td>\n",
       "      <td>N</td>\n",
       "    </tr>\n",
       "    <tr>\n",
       "      <th>1</th>\n",
       "      <td>Dennis  Jones</td>\n",
       "      <td>CA</td>\n",
       "      <td>4.236842</td>\n",
       "      <td>4.0</td>\n",
       "      <td>W</td>\n",
       "    </tr>\n",
       "    <tr>\n",
       "      <th>2</th>\n",
       "      <td>Dennis  Jones</td>\n",
       "      <td>CA</td>\n",
       "      <td>4.236842</td>\n",
       "      <td>1.0</td>\n",
       "      <td>W</td>\n",
       "    </tr>\n",
       "    <tr>\n",
       "      <th>3</th>\n",
       "      <td>Dennis  Jones</td>\n",
       "      <td>CA</td>\n",
       "      <td>4.236842</td>\n",
       "      <td>3.5</td>\n",
       "      <td>W</td>\n",
       "    </tr>\n",
       "    <tr>\n",
       "      <th>4</th>\n",
       "      <td>Dennis  Jones</td>\n",
       "      <td>CA</td>\n",
       "      <td>4.236842</td>\n",
       "      <td>2.5</td>\n",
       "      <td>W</td>\n",
       "    </tr>\n",
       "  </tbody>\n",
       "</table>\n",
       "</div>"
      ],
      "text/plain": [
       "  professor_name state_name  avg_rating  student_star region\n",
       "0    Mimi  Kline         PA    5.000000           5.0      N\n",
       "1  Dennis  Jones         CA    4.236842           4.0      W\n",
       "2  Dennis  Jones         CA    4.236842           1.0      W\n",
       "3  Dennis  Jones         CA    4.236842           3.5      W\n",
       "4  Dennis  Jones         CA    4.236842           2.5      W"
      ]
     },
     "execution_count": 158,
     "metadata": {},
     "output_type": "execute_result"
    }
   ],
   "source": [
    "df.head()"
   ]
  },
  {
   "cell_type": "code",
   "execution_count": 161,
   "metadata": {},
   "outputs": [
    {
     "data": {
      "text/html": [
       "<div>\n",
       "<style scoped>\n",
       "    .dataframe tbody tr th:only-of-type {\n",
       "        vertical-align: middle;\n",
       "    }\n",
       "\n",
       "    .dataframe tbody tr th {\n",
       "        vertical-align: top;\n",
       "    }\n",
       "\n",
       "    .dataframe thead th {\n",
       "        text-align: right;\n",
       "    }\n",
       "</style>\n",
       "<table border=\"1\" class=\"dataframe\">\n",
       "  <thead>\n",
       "    <tr style=\"text-align: right;\">\n",
       "      <th></th>\n",
       "      <th>professor_name</th>\n",
       "      <th>state_name</th>\n",
       "      <th>avg_rating</th>\n",
       "      <th>student_star</th>\n",
       "      <th>region</th>\n",
       "    </tr>\n",
       "  </thead>\n",
       "  <tbody>\n",
       "    <tr>\n",
       "      <th>0</th>\n",
       "      <td>Mimi  Kline</td>\n",
       "      <td>PA</td>\n",
       "      <td>5.000000</td>\n",
       "      <td>5.0</td>\n",
       "      <td>N</td>\n",
       "    </tr>\n",
       "    <tr>\n",
       "      <th>1</th>\n",
       "      <td>Dennis  Jones</td>\n",
       "      <td>CA</td>\n",
       "      <td>4.236842</td>\n",
       "      <td>4.0</td>\n",
       "      <td>W</td>\n",
       "    </tr>\n",
       "    <tr>\n",
       "      <th>20</th>\n",
       "      <td>Mario  Perez</td>\n",
       "      <td>NJ</td>\n",
       "      <td>2.750000</td>\n",
       "      <td>1.5</td>\n",
       "      <td>N</td>\n",
       "    </tr>\n",
       "    <tr>\n",
       "      <th>22</th>\n",
       "      <td>Eddie  Tapia</td>\n",
       "      <td>FL</td>\n",
       "      <td>3.100000</td>\n",
       "      <td>3.5</td>\n",
       "      <td>S</td>\n",
       "    </tr>\n",
       "    <tr>\n",
       "      <th>27</th>\n",
       "      <td>S  Saini</td>\n",
       "      <td>NY</td>\n",
       "      <td>4.750000</td>\n",
       "      <td>5.0</td>\n",
       "      <td>N</td>\n",
       "    </tr>\n",
       "  </tbody>\n",
       "</table>\n",
       "</div>"
      ],
      "text/plain": [
       "   professor_name state_name  avg_rating  student_star region\n",
       "0     Mimi  Kline         PA    5.000000           5.0      N\n",
       "1   Dennis  Jones         CA    4.236842           4.0      W\n",
       "20   Mario  Perez         NJ    2.750000           1.5      N\n",
       "22   Eddie  Tapia         FL    3.100000           3.5      S\n",
       "27       S  Saini         NY    4.750000           5.0      N"
      ]
     },
     "execution_count": 161,
     "metadata": {},
     "output_type": "execute_result"
    }
   ],
   "source": [
    "# only one row for each professor\n",
    "avg_ratings_df = df.drop_duplicates(subset = ['professor_name'])\n",
    "avg_ratings_df.head()"
   ]
  },
  {
   "cell_type": "code",
   "execution_count": 162,
   "metadata": {},
   "outputs": [
    {
     "name": "stdout",
     "output_type": "stream",
     "text": [
      "6285\n",
      "5435\n",
      "4007\n",
      "2397\n",
      "90\n"
     ]
    }
   ],
   "source": [
    "print(len(df[df['region'] == 'W']))\n",
    "print(len(df[df['region'] == 'N']))\n",
    "print(len(df[df['region'] == 'S']))\n",
    "print(len(df[df['region'] == 'M']))\n",
    "print(len(df[df['region'] == 'O']))"
   ]
  },
  {
   "cell_type": "code",
   "execution_count": 146,
   "metadata": {},
   "outputs": [],
   "source": []
  },
  {
   "cell_type": "code",
   "execution_count": null,
   "metadata": {},
   "outputs": [],
   "source": []
  },
  {
   "cell_type": "code",
   "execution_count": null,
   "metadata": {},
   "outputs": [],
   "source": []
  },
  {
   "cell_type": "code",
   "execution_count": null,
   "metadata": {},
   "outputs": [],
   "source": []
  },
  {
   "cell_type": "markdown",
   "metadata": {},
   "source": [
    "# Visualization\n",
    "\n",
    "This section should contain at least one visualization showing something informative about the data. The skills you learned for this section primarily come from Module 5B."
   ]
  },
  {
   "cell_type": "code",
   "execution_count": 167,
   "metadata": {},
   "outputs": [
    {
     "data": {
      "text/plain": [
       "<seaborn.axisgrid.FacetGrid at 0x7fd5699e2750>"
      ]
     },
     "execution_count": 167,
     "metadata": {},
     "output_type": "execute_result"
    },
    {
     "data": {
      "image/png": "[encoded data removed]",
      "text/plain": [
       "<Figure size 360x360 with 1 Axes>"
      ]
     },
     "metadata": {},
     "output_type": "display_data"
    }
   ],
   "source": [
    "# average ratings for each region \n",
    "sns.catplot(data = avg_ratings_df, x = 'region', y = 'avg_rating', kind='box')"
   ]
  },
  {
   "cell_type": "code",
   "execution_count": 154,
   "metadata": {},
   "outputs": [
    {
     "data": {
      "text/plain": [
       "<seaborn.axisgrid.FacetGrid at 0x7fd569b8e150>"
      ]
     },
     "execution_count": 154,
     "metadata": {},
     "output_type": "execute_result"
    },
    {
     "data": {
      "image/png": "[encoded data removed]",
      "text/plain": [
       "<Figure size 360x360 with 1 Axes>"
      ]
     },
     "metadata": {},
     "output_type": "display_data"
    }
   ],
   "source": [
    "sns.catplot(data = df, x = 'avg_rating', y = 'region', kind = 'bar')"
   ]
  },
  {
   "cell_type": "code",
   "execution_count": 174,
   "metadata": {},
   "outputs": [
    {
     "data": {
      "text/plain": [
       "<seaborn.axisgrid.FacetGrid at 0x7fd56a0b8ed0>"
      ]
     },
     "execution_count": 174,
     "metadata": {},
     "output_type": "execute_result"
    },
    {
     "data": {
      "image/png": "[encoded data removed]",
      "text/plain": [
       "<Figure size 1800x360 with 5 Axes>"
      ]
     },
     "metadata": {},
     "output_type": "display_data"
    }
   ],
   "source": [
    "# visualization of the distribution of each regions ratings \n",
    "sns.displot(data=df,x = 'avg_rating',col='region')"
   ]
  },
  {
   "cell_type": "markdown",
   "metadata": {},
   "source": [
    "# Hypothesis Test\n",
    "\n",
    "This section should contain at least one hypothesis test about the data. The skills you learned for this section primarily came from Module 3B."
   ]
  },
  {
   "cell_type": "code",
   "execution_count": 114,
   "metadata": {},
   "outputs": [
    {
     "ename": "ZeroDivisionError",
     "evalue": "float division by zero",
     "output_type": "error",
     "traceback": [
      "\u001b[0;31m---------------------------------------------------------------------------\u001b[0m",
      "\u001b[0;31mZeroDivisionError\u001b[0m                         Traceback (most recent call last)",
      "\u001b[0;32m<ipython-input-114-b4fd60cdfdba>\u001b[0m in \u001b[0;36m<module>\u001b[0;34m\u001b[0m\n\u001b[1;32m      5\u001b[0m \u001b[0;34m\u001b[0m\u001b[0m\n\u001b[1;32m      6\u001b[0m result = stats.ttest_ind_from_stats(mean1 = np.mean(MWonly['star_rating']), std1 = np.std(MWonly['star_rating']), nobs1 = len(MWonly['star_rating']),\n\u001b[0;32m----> 7\u001b[0;31m                                  mean2 = np.mean(NEonly['star_rating']), std2 = np.std(NEonly['star_rating']), nobs2 = len(NEonly['star_rating']))\n\u001b[0m\u001b[1;32m      8\u001b[0m \u001b[0;34m\u001b[0m\u001b[0m\n\u001b[1;32m      9\u001b[0m \u001b[0mq4_1\u001b[0m \u001b[0;34m=\u001b[0m \u001b[0mresult\u001b[0m\u001b[0;34m.\u001b[0m\u001b[0mpvalue\u001b[0m\u001b[0;34m\u001b[0m\u001b[0;34m\u001b[0m\u001b[0m\n",
      "\u001b[0;32m~/opt/anaconda3/lib/python3.7/site-packages/scipy/stats/stats.py\u001b[0m in \u001b[0;36mttest_ind_from_stats\u001b[0;34m(mean1, std1, nobs1, mean2, std2, nobs2, equal_var)\u001b[0m\n\u001b[1;32m   5130\u001b[0m     \"\"\"\n\u001b[1;32m   5131\u001b[0m     \u001b[0;32mif\u001b[0m \u001b[0mequal_var\u001b[0m\u001b[0;34m:\u001b[0m\u001b[0;34m\u001b[0m\u001b[0;34m\u001b[0m\u001b[0m\n\u001b[0;32m-> 5132\u001b[0;31m         \u001b[0mdf\u001b[0m\u001b[0;34m,\u001b[0m \u001b[0mdenom\u001b[0m \u001b[0;34m=\u001b[0m \u001b[0m_equal_var_ttest_denom\u001b[0m\u001b[0;34m(\u001b[0m\u001b[0mstd1\u001b[0m\u001b[0;34m**\u001b[0m\u001b[0;36m2\u001b[0m\u001b[0;34m,\u001b[0m \u001b[0mnobs1\u001b[0m\u001b[0;34m,\u001b[0m \u001b[0mstd2\u001b[0m\u001b[0;34m**\u001b[0m\u001b[0;36m2\u001b[0m\u001b[0;34m,\u001b[0m \u001b[0mnobs2\u001b[0m\u001b[0;34m)\u001b[0m\u001b[0;34m\u001b[0m\u001b[0;34m\u001b[0m\u001b[0m\n\u001b[0m\u001b[1;32m   5133\u001b[0m     \u001b[0;32melse\u001b[0m\u001b[0;34m:\u001b[0m\u001b[0;34m\u001b[0m\u001b[0;34m\u001b[0m\u001b[0m\n\u001b[1;32m   5134\u001b[0m         df, denom = _unequal_var_ttest_denom(std1**2, nobs1,\n",
      "\u001b[0;32m~/opt/anaconda3/lib/python3.7/site-packages/scipy/stats/stats.py\u001b[0m in \u001b[0;36m_equal_var_ttest_denom\u001b[0;34m(v1, n1, v2, n2)\u001b[0m\n\u001b[1;32m   5021\u001b[0m     \u001b[0mdf\u001b[0m \u001b[0;34m=\u001b[0m \u001b[0mn1\u001b[0m \u001b[0;34m+\u001b[0m \u001b[0mn2\u001b[0m \u001b[0;34m-\u001b[0m \u001b[0;36m2.0\u001b[0m\u001b[0;34m\u001b[0m\u001b[0;34m\u001b[0m\u001b[0m\n\u001b[1;32m   5022\u001b[0m     \u001b[0msvar\u001b[0m \u001b[0;34m=\u001b[0m \u001b[0;34m(\u001b[0m\u001b[0;34m(\u001b[0m\u001b[0mn1\u001b[0m \u001b[0;34m-\u001b[0m \u001b[0;36m1\u001b[0m\u001b[0;34m)\u001b[0m \u001b[0;34m*\u001b[0m \u001b[0mv1\u001b[0m \u001b[0;34m+\u001b[0m \u001b[0;34m(\u001b[0m\u001b[0mn2\u001b[0m \u001b[0;34m-\u001b[0m \u001b[0;36m1\u001b[0m\u001b[0;34m)\u001b[0m \u001b[0;34m*\u001b[0m \u001b[0mv2\u001b[0m\u001b[0;34m)\u001b[0m \u001b[0;34m/\u001b[0m \u001b[0mdf\u001b[0m\u001b[0;34m\u001b[0m\u001b[0;34m\u001b[0m\u001b[0m\n\u001b[0;32m-> 5023\u001b[0;31m     \u001b[0mdenom\u001b[0m \u001b[0;34m=\u001b[0m \u001b[0mnp\u001b[0m\u001b[0;34m.\u001b[0m\u001b[0msqrt\u001b[0m\u001b[0;34m(\u001b[0m\u001b[0msvar\u001b[0m \u001b[0;34m*\u001b[0m \u001b[0;34m(\u001b[0m\u001b[0;36m1.0\u001b[0m \u001b[0;34m/\u001b[0m \u001b[0mn1\u001b[0m \u001b[0;34m+\u001b[0m \u001b[0;36m1.0\u001b[0m \u001b[0;34m/\u001b[0m \u001b[0mn2\u001b[0m\u001b[0;34m)\u001b[0m\u001b[0;34m)\u001b[0m\u001b[0;34m\u001b[0m\u001b[0;34m\u001b[0m\u001b[0m\n\u001b[0m\u001b[1;32m   5024\u001b[0m     \u001b[0;32mreturn\u001b[0m \u001b[0mdf\u001b[0m\u001b[0;34m,\u001b[0m \u001b[0mdenom\u001b[0m\u001b[0;34m\u001b[0m\u001b[0;34m\u001b[0m\u001b[0m\n\u001b[1;32m   5025\u001b[0m \u001b[0;34m\u001b[0m\u001b[0m\n",
      "\u001b[0;31mZeroDivisionError\u001b[0m: float division by zero"
     ]
    }
   ],
   "source": [
    "H_df = new_df #create a df for the hypothesis test section\n",
    "MWonly = H_df[H_df['region'] == 'MW']\n",
    "NEonly = H_df[H_df['region'] == 'NE']\n",
    "\n",
    "\n",
    "result = stats.ttest_ind_from_stats(mean1 = np.mean(MWonly['star_rating']), std1 = np.std(MWonly['star_rating']), nobs1 = len(MWonly['star_rating']),\n",
    "                                 mean2 = np.mean(NEonly['star_rating']), std2 = np.std(NEonly['star_rating']), nobs2 = len(NEonly['star_rating']))\n",
    "\n",
    "q4_1 = result.pvalue\n",
    "\n",
    "print(q4_1)"
   ]
  },
  {
   "cell_type": "markdown",
   "metadata": {},
   "source": [
    "# Prediction\n",
    "\n",
    "This section should contain the creation and testing of at least one model. The skills you learned for this section primarily came from Module 6."
   ]
  },
  {
   "cell_type": "code",
   "execution_count": null,
   "metadata": {},
   "outputs": [],
   "source": []
  },
  {
   "cell_type": "markdown",
   "metadata": {},
   "source": [
    "# Additional Analysis\n",
    "\n",
    "This section should contain one more analysis of your choosing. It can be like any of the other analysis sections."
   ]
  },
  {
   "cell_type": "code",
   "execution_count": null,
   "metadata": {},
   "outputs": [],
   "source": []
  },
  {
   "cell_type": "markdown",
   "metadata": {},
   "source": [
    "# Conclusion\n",
    "\n",
    "*Add text here if you want to be considered for the last few points assessing the overall cohesion of your sections and an effective concluding summary.*"
   ]
  }
 ],
 "metadata": {
  "kernelspec": {
   "display_name": "Python 3",
   "language": "python",
   "name": "python3"
  },
  "language_info": {
   "codemirror_mode": {
    "name": "ipython",
    "version": 3
   },
   "file_extension": ".py",
   "mimetype": "text/x-python",
   "name": "python",
   "nbconvert_exporter": "python",
   "pygments_lexer": "ipython3",
   "version": "3.7.6"
  }
 },
 "nbformat": 4,
 "nbformat_minor": 5
}
