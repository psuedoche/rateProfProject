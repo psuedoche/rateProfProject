{
 "cells": [
  {
   "cell_type": "markdown",
   "metadata": {},
   "source": [
    "# Final Perform\n",
    "\n",
    "This is the final perform. This notebook is serves as a template for how you should structure your final submission. There are no autograded tests for this Perform. You should also feel free to add more cells and move sections around if you believe it will improve the cohesion of the assignment.\n",
    "\n",
    "The data is in RateMyProfessorSampleData.zip. You will need to unzip the file to access the data files. The data is a [sample data dump from RateMyProfessor.com](https://data.mendeley.com/datasets/fvtfjyvw7d/2).\n",
    "\n",
    "When you finish please go to Kernel --> Restart and Run All, and then double check that your notebook looks correct before saving and submitting your .ipynb file (the notebook file) on gradescope. There is no autograder for this Perform. It is entirely manually graded."
   ]
  },
  {
   "cell_type": "code",
   "execution_count": 2,
   "metadata": {},
   "outputs": [
    {
     "name": "stdout",
     "output_type": "stream",
     "text": [
      "0.11.0\n"
     ]
    }
   ],
   "source": [
    "# Run this code cell to import relevant libraries\n",
    "# Feel free to add any other libraries here or later in your notebook\n",
    "# Please update to seaborn v0.11 for this assignment\n",
    "# check version: print(sns.__version__)\n",
    "\n",
    "import numpy as np\n",
    "import pandas as pd\n",
    "import seaborn as sns\n",
    "sns.set_theme()\n",
    "\n",
    "print(sns.__version__)"
   ]
  },
  {
   "cell_type": "markdown",
   "metadata": {},
   "source": [
    "# Introduction\n",
    "\n",
    "*Add text here if you would like to provide an introduction to your analysis that will add to the notebook's cohesion*"
   ]
  },
  {
   "cell_type": "markdown",
   "metadata": {},
   "source": [
    "# Data Processing\n",
    "\n",
    "This section should have all of your data loading and cleaning code where you load and create your DataFrame(s). It does not need to contain all of the data processing code if creating a new column or table in a later section makes more sense for explanation and cohesion."
   ]
  },
  {
   "cell_type": "code",
   "execution_count": 3,
   "metadata": {},
   "outputs": [
    {
     "name": "stdout",
     "output_type": "stream",
     "text": [
      "  professor_name                             school_name  \\\n",
      "0    Mimi  Kline          Bucks County Community College   \n",
      "1  Dennis  Jones  California State University Stanislaus   \n",
      "2  Dennis  Jones  California State University Stanislaus   \n",
      "3  Dennis  Jones  California State University Stanislaus   \n",
      "4  Dennis  Jones  California State University Stanislaus   \n",
      "\n",
      "        department_name local_name state_name  year_since_first_review  \\\n",
      "0   Medicine department    Newtown         PA                      0.0   \n",
      "1  Chemistry department    Turlock         CA                      8.0   \n",
      "2  Chemistry department    Turlock         CA                      8.0   \n",
      "3  Chemistry department    Turlock         CA                      8.0   \n",
      "4  Chemistry department    Turlock         CA                      8.0   \n",
      "\n",
      "   star_rating take_again  diff_index  \\\n",
      "0          5.0        NaN         4.0   \n",
      "1          4.3        NaN         2.4   \n",
      "2          4.3        NaN         2.4   \n",
      "3          4.3        NaN         2.4   \n",
      "4          4.3        NaN         2.4   \n",
      "\n",
      "                                       tag_professor  ...  student_star  \\\n",
      "0                                                NaN  ...           5.0   \n",
      "1  Tough Grader (3)  Inspirational (3)  Skip clas...  ...           4.0   \n",
      "2  Tough Grader (3)  Inspirational (3)  Skip clas...  ...           1.0   \n",
      "3  Tough Grader (3)  Inspirational (3)  Skip clas...  ...           3.5   \n",
      "4  Tough Grader (3)  Inspirational (3)  Skip clas...  ...           2.5   \n",
      "\n",
      "  student_difficult    attence  for_credits  would_take_agains grades  \\\n",
      "0               4.0        NaN          NaN                NaN    NaN   \n",
      "1               3.0  Mandatory          Yes                Yes      A   \n",
      "2               4.0  Mandatory          Yes                 No      C   \n",
      "3               2.0  Mandatory          Yes                NaN      A   \n",
      "4               4.0  Mandatory          Yes                NaN      A   \n",
      "\n",
      "                                            stu_tags help_useful  \\\n",
      "0                                                NaN           0   \n",
      "1                                          RESPECTED           0   \n",
      "2  SKIP CLASS? YOU WON\\'T PASS.  TOUGH GRADER  IN...           0   \n",
      "3  SKIP CLASS? YOU WON\\'T PASS.  GET READY TO REA...           0   \n",
      "4                                       TOUGH GRADER           1   \n",
      "\n",
      "  help_not_useful                                           comments  \n",
      "0               0  Mimi is awesome. She is tough, but fair. She i...  \n",
      "1               0  Jones is the best! He does get off topic here ...  \n",
      "2               2  Horrible professor, but is a good guy at heart...  \n",
      "3               0  Pretty sweet old guy. His tests are kinda toug...  \n",
      "4               0  He has a deep passion for Chemistry but is a b...  \n",
      "\n",
      "[5 rows x 23 columns]\n"
     ]
    }
   ],
   "source": [
    "import glob\n",
    "import os\n",
    "\n",
    "# merging the files into one dataframe\n",
    "joined_files = os.path.join(\"RateMyProfessorSampleData\", \"data*.csv\")\n",
    "joined_list = glob.glob(joined_files)\n",
    "df = pd.concat(map(pd.read_csv, joined_list), ignore_index=True)\n",
    "                            \n",
    "print(df.head())"
   ]
  },
  {
   "cell_type": "code",
   "execution_count": 5,
   "metadata": {},
   "outputs": [
    {
     "name": "stdout",
     "output_type": "stream",
     "text": [
      "(19685, 23)\n"
     ]
    }
   ],
   "source": [
    "print(df.shape)"
   ]
  },
  {
   "cell_type": "code",
   "execution_count": 24,
   "metadata": {},
   "outputs": [
    {
     "name": "stdout",
     "output_type": "stream",
     "text": [
      "   professor_name                               school_name  \\\n",
      "0     Mimi  Kline            Bucks County Community College   \n",
      "1   Dennis  Jones    California State University Stanislaus   \n",
      "20   Mario  Perez  Rutgers - State University of New Jersey   \n",
      "22   Eddie  Tapia                      Full Sail University   \n",
      "27       S  Saini                       CUNY Queens College   \n",
      "\n",
      "         department_name      local_name state_name  year_since_first_review  \\\n",
      "0    Medicine department         Newtown         PA                      0.0   \n",
      "1   Chemistry department         Turlock         CA                      8.0   \n",
      "20    History department   New Brunswick         NJ                      0.0   \n",
      "22    Writing department     Winter Park         FL                      6.0   \n",
      "27    Science department        Flushing         NY                      1.0   \n",
      "\n",
      "    star_rating take_again  diff_index  \\\n",
      "0           5.0        NaN         4.0   \n",
      "1           4.3        NaN         2.4   \n",
      "20          2.8        NaN         3.0   \n",
      "22          3.1        NaN         1.0   \n",
      "27          4.8        NaN         2.7   \n",
      "\n",
      "                                        tag_professor  ...  student_star  \\\n",
      "0                                                 NaN  ...           5.0   \n",
      "1   Tough Grader (3)  Inspirational (3)  Skip clas...  ...           4.0   \n",
      "20                                                NaN  ...           1.5   \n",
      "22    Skip class? You won\\'t pass. (2)  Hilarious (2)  ...           3.5   \n",
      "27                                                NaN  ...           5.0   \n",
      "\n",
      "   student_difficult    attence  for_credits  would_take_agains grades  \\\n",
      "0                4.0        NaN          NaN                NaN    NaN   \n",
      "1                3.0  Mandatory          Yes                Yes      A   \n",
      "20               3.0        NaN          NaN                NaN    NaN   \n",
      "22               1.0  Mandatory          Yes                Yes     A+   \n",
      "27               2.0        NaN          NaN                NaN    NaN   \n",
      "\n",
      "                                   stu_tags help_useful help_not_useful  \\\n",
      "0                                       NaN           0               0   \n",
      "1                                 RESPECTED           0               0   \n",
      "20                                      NaN           0               0   \n",
      "22  SKIP CLASS? YOU WON\\'T PASS.  HILARIOUS           0               0   \n",
      "27                                      NaN           0               0   \n",
      "\n",
      "                                             comments  \n",
      "0   Mimi is awesome. She is tough, but fair. She i...  \n",
      "1   Jones is the best! He does get off topic here ...  \n",
      "20  not a great class, at least with this professo...  \n",
      "22  I adore Eddie. He\\'s a great teacher, very hel...  \n",
      "27  Probably the best professor i have had so far....  \n",
      "\n",
      "[5 rows x 23 columns]\n"
     ]
    }
   ],
   "source": [
    "# only take into consideration the states and the average star rating of a professor \n",
    "new_df = df.drop_duplicates(subset=['professor_name'])\n",
    "print(new_df.head())"
   ]
  },
  {
   "cell_type": "code",
   "execution_count": 25,
   "metadata": {},
   "outputs": [],
   "source": [
    "new_df = new_df[['professor_name','state_name','star_rating']]"
   ]
  },
  {
   "cell_type": "code",
   "execution_count": 26,
   "metadata": {},
   "outputs": [
    {
     "name": "stdout",
     "output_type": "stream",
     "text": [
      "              professor_name state_name  star_rating\n",
      "0                Mimi  Kline         PA          5.0\n",
      "1              Dennis  Jones         CA          4.3\n",
      "20              Mario  Perez         NJ          2.8\n",
      "22              Eddie  Tapia         FL          3.1\n",
      "27                  S  Saini         NY          4.8\n",
      "...                      ...        ...          ...\n",
      "19668             Das  Panda         MD          2.3\n",
      "19670       Mitchell  Graham         MD          3.8\n",
      "19677         Roger  Hamrick         CA          1.0\n",
      "19679        Debbie  Damiani         PA          3.3\n",
      "19684  Felicia  Middlebrooks         IL          5.0\n",
      "\n",
      "[2766 rows x 3 columns]\n"
     ]
    }
   ],
   "source": [
    "print(new_df)"
   ]
  },
  {
   "cell_type": "code",
   "execution_count": 34,
   "metadata": {},
   "outputs": [],
   "source": [
    "region_map = {\n",
    "        'AK': 'O',\n",
    "        'AL': 'S',\n",
    "        'AR': 'S',\n",
    "        'AS': 'O',\n",
    "        'AZ': 'W',\n",
    "        'CA': 'W',\n",
    "        'CO': 'W',\n",
    "        'CT': 'N',\n",
    "        'DC': 'N',\n",
    "        'DE': 'N',\n",
    "        'FL': 'S',\n",
    "        'GA': 'S',\n",
    "        'GU': 'O',\n",
    "        'HI': 'O',\n",
    "        'IA': 'M',\n",
    "        'ID': 'W',\n",
    "        'IL': 'M',\n",
    "        'IN': 'M',\n",
    "        'KS': 'M',\n",
    "        'KY': 'S',\n",
    "        'LA': 'S',\n",
    "        'MA': 'N',\n",
    "        'MD': 'N',\n",
    "        'ME': 'N',\n",
    "        'MI': 'W',\n",
    "        'MN': 'M',\n",
    "        'MO': 'M',\n",
    "        'MP': 'O',\n",
    "        'MS': 'S',\n",
    "        'MT': 'W',\n",
    "        'NA': 'O',\n",
    "        'NC': 'S',\n",
    "        'ND': 'M',\n",
    "        'NE': 'W',\n",
    "        'NH': 'N',\n",
    "        'NJ': 'N',\n",
    "        'NM': 'W',\n",
    "        'NV': 'W',\n",
    "        'NY': 'N',\n",
    "        'OH': 'M',\n",
    "        'OK': 'S',\n",
    "        'OR': 'W',\n",
    "        'PA': 'N',\n",
    "        'PR': 'O',\n",
    "        'RI': 'N',\n",
    "        'SC': 'S',\n",
    "        'SD': 'M',\n",
    "        'TN': 'S',\n",
    "        'TX': 'S',\n",
    "        'UT': 'W',\n",
    "        'VA': 'S',\n",
    "        'VI': 'O',\n",
    "        'VT': 'N',\n",
    "        'WA': 'W',\n",
    "        'WI': 'M',\n",
    "        'WV': 'S',\n",
    "        'WY': 'W'\n",
    "}\n",
    "\n",
    "new_df['region'] = new_df['state_name'].map(region_map)\n"
   ]
  },
  {
   "cell_type": "code",
   "execution_count": 35,
   "metadata": {},
   "outputs": [
    {
     "name": "stdout",
     "output_type": "stream",
     "text": [
      "   professor_name state_name  star_rating region\n",
      "0     Mimi  Kline         PA          5.0    NaN\n",
      "1   Dennis  Jones         CA          4.3    NaN\n",
      "20   Mario  Perez         NJ          2.8    NaN\n",
      "22   Eddie  Tapia         FL          3.1    NaN\n",
      "27       S  Saini         NY          4.8    NaN\n"
     ]
    }
   ],
   "source": [
    "print(new_df.head())"
   ]
  },
  {
   "cell_type": "markdown",
   "metadata": {},
   "source": [
    "# Visualization\n",
    "\n",
    "This section should contain at least one visualization showing something informative about the data. The skills you learned for this section primarily come from Module 5B."
   ]
  },
  {
   "cell_type": "code",
   "execution_count": null,
   "metadata": {},
   "outputs": [],
   "source": []
  },
  {
   "cell_type": "markdown",
   "metadata": {},
   "source": [
    "# Hypothesis Test\n",
    "\n",
    "This section should contain at least one hypothesis test about the data. The skills you learned for this section primarily came from Module 3B."
   ]
  },
  {
   "cell_type": "code",
   "execution_count": null,
   "metadata": {},
   "outputs": [],
   "source": []
  },
  {
   "cell_type": "markdown",
   "metadata": {},
   "source": [
    "# Prediction\n",
    "\n",
    "This section should contain the creation and testing of at least one model. The skills you learned for this section primarily came from Module 6."
   ]
  },
  {
   "cell_type": "code",
   "execution_count": null,
   "metadata": {},
   "outputs": [],
   "source": []
  },
  {
   "cell_type": "markdown",
   "metadata": {},
   "source": [
    "# Additional Analysis\n",
    "\n",
    "This section should contain one more analysis of your choosing. It can be like any of the other analysis sections."
   ]
  },
  {
   "cell_type": "code",
   "execution_count": null,
   "metadata": {},
   "outputs": [],
   "source": []
  },
  {
   "cell_type": "markdown",
   "metadata": {},
   "source": [
    "# Conclusion\n",
    "\n",
    "*Add text here if you want to be considered for the last few points assessing the overall cohesion of your sections and an effective concluding summary.*"
   ]
  }
 ],
 "metadata": {
  "kernelspec": {
   "display_name": "Python 3",
   "language": "python",
   "name": "python3"
  },
  "language_info": {
   "codemirror_mode": {
    "name": "ipython",
    "version": 3
   },
   "file_extension": ".py",
   "mimetype": "text/x-python",
   "name": "python",
   "nbconvert_exporter": "python",
   "pygments_lexer": "ipython3",
   "version": "3.7.6"
  }
 },
 "nbformat": 4,
 "nbformat_minor": 5
}
